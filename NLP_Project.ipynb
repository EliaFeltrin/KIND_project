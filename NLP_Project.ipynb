{
  "cells": [
    {
      "cell_type": "markdown",
      "metadata": {
        "colab_type": "text",
        "id": "view-in-github"
      },
      "source": [
        "<a href=\"https://colab.research.google.com/github/EliaFeltrin/KIND_project/blob/main/NLP_Project.ipynb\" target=\"_parent\"><img src=\"https://colab.research.google.com/assets/colab-badge.svg\" alt=\"Open In Colab\"/></a>"
      ]
    },
    {
      "cell_type": "markdown",
      "metadata": {
        "id": "iKwSQ3yjxA6I"
      },
      "source": [
        "# Name Entity Recognition"
      ]
    },
    {
      "cell_type": "code",
      "execution_count": null,
      "metadata": {
        "id": "oMU9U9-GzVvR"
      },
      "outputs": [],
      "source": [
        "def get_string_from_df(dataframe, puntuaction):\n",
        "  '''\n",
        "  Transforms the tokenized dataset into a single string.\n",
        "  \n",
        "  Parameters\n",
        "  ----------\n",
        "  dataframe: DataFrame\n",
        "    structure containing the tokenized dataset\n",
        "\n",
        "  Returns\n",
        "  -------\n",
        "  text: str\n",
        "    string concatenating all the tokens of the dataset\n",
        "  '''\n",
        "  text_df = dataframe.loc[:,'Token']\n",
        "  text = ''\n",
        "  for token in text_df:\n",
        "    token += ' '\n",
        "    text += token\n",
        "  return text"
      ]
    },
    {
      "cell_type": "markdown",
      "metadata": {
        "id": "_uSdgHpkxIGR"
      },
      "source": [
        "## Introduction"
      ]
    },
    {
      "cell_type": "code",
      "execution_count": null,
      "metadata": {
        "id": "I7o1jqSjx0mN"
      },
      "outputs": [],
      "source": [
        "# Cloning the github repository\n",
        "! git clone https://github.com/EliaFeltrin/KIND_project.git"
      ]
    },
    {
      "attachments": {},
      "cell_type": "markdown",
      "metadata": {},
      "source": [
        "## Installation of libraries and imports"
      ]
    },
    {
      "cell_type": "code",
      "execution_count": 98,
      "metadata": {
        "id": "nLQhCXCbxy-f"
      },
      "outputs": [
        {
          "name": "stdout",
          "output_type": "stream",
          "text": [
            "Requirement already satisfied: gensim in /Users/enricosimionato/opt/anaconda3/envs/NLP/lib/python3.9/site-packages (4.3.1)\n",
            "Requirement already satisfied: smart-open>=1.8.1 in /Users/enricosimionato/opt/anaconda3/envs/NLP/lib/python3.9/site-packages (from gensim) (5.2.1)\n",
            "Requirement already satisfied: scipy>=1.7.0 in /Users/enricosimionato/opt/anaconda3/envs/NLP/lib/python3.9/site-packages (from gensim) (1.10.1)\n",
            "Requirement already satisfied: numpy>=1.18.5 in /Users/enricosimionato/opt/anaconda3/envs/NLP/lib/python3.9/site-packages (from gensim) (1.24.3)\n",
            "Requirement already satisfied: spacy in /Users/enricosimionato/opt/anaconda3/envs/NLP/lib/python3.9/site-packages (3.5.2)\n",
            "Requirement already satisfied: catalogue<2.1.0,>=2.0.6 in /Users/enricosimionato/opt/anaconda3/envs/NLP/lib/python3.9/site-packages (from spacy) (2.0.7)\n",
            "Requirement already satisfied: pathy>=0.10.0 in /Users/enricosimionato/opt/anaconda3/envs/NLP/lib/python3.9/site-packages (from spacy) (0.10.1)\n",
            "Requirement already satisfied: jinja2 in /Users/enricosimionato/opt/anaconda3/envs/NLP/lib/python3.9/site-packages (from spacy) (3.1.2)\n",
            "Requirement already satisfied: smart-open<7.0.0,>=5.2.1 in /Users/enricosimionato/opt/anaconda3/envs/NLP/lib/python3.9/site-packages (from spacy) (5.2.1)\n",
            "Requirement already satisfied: numpy>=1.15.0 in /Users/enricosimionato/opt/anaconda3/envs/NLP/lib/python3.9/site-packages (from spacy) (1.24.3)\n",
            "Requirement already satisfied: thinc<8.2.0,>=8.1.8 in /Users/enricosimionato/opt/anaconda3/envs/NLP/lib/python3.9/site-packages (from spacy) (8.1.10)\n",
            "Requirement already satisfied: murmurhash<1.1.0,>=0.28.0 in /Users/enricosimionato/opt/anaconda3/envs/NLP/lib/python3.9/site-packages (from spacy) (1.0.7)\n",
            "Requirement already satisfied: srsly<3.0.0,>=2.4.3 in /Users/enricosimionato/opt/anaconda3/envs/NLP/lib/python3.9/site-packages (from spacy) (2.4.6)\n",
            "Requirement already satisfied: packaging>=20.0 in /Users/enricosimionato/opt/anaconda3/envs/NLP/lib/python3.9/site-packages (from spacy) (23.0)\n",
            "Requirement already satisfied: spacy-legacy<3.1.0,>=3.0.11 in /Users/enricosimionato/opt/anaconda3/envs/NLP/lib/python3.9/site-packages (from spacy) (3.0.12)\n",
            "Requirement already satisfied: wasabi<1.2.0,>=0.9.1 in /Users/enricosimionato/opt/anaconda3/envs/NLP/lib/python3.9/site-packages (from spacy) (0.9.1)\n",
            "Requirement already satisfied: requests<3.0.0,>=2.13.0 in /Users/enricosimionato/opt/anaconda3/envs/NLP/lib/python3.9/site-packages (from spacy) (2.29.0)\n",
            "Requirement already satisfied: langcodes<4.0.0,>=3.2.0 in /Users/enricosimionato/opt/anaconda3/envs/NLP/lib/python3.9/site-packages (from spacy) (3.3.0)\n",
            "Requirement already satisfied: tqdm<5.0.0,>=4.38.0 in /Users/enricosimionato/opt/anaconda3/envs/NLP/lib/python3.9/site-packages (from spacy) (4.65.0)\n",
            "Requirement already satisfied: cymem<2.1.0,>=2.0.2 in /Users/enricosimionato/opt/anaconda3/envs/NLP/lib/python3.9/site-packages (from spacy) (2.0.6)\n",
            "Requirement already satisfied: spacy-loggers<2.0.0,>=1.0.0 in /Users/enricosimionato/opt/anaconda3/envs/NLP/lib/python3.9/site-packages (from spacy) (1.0.1)\n",
            "Requirement already satisfied: pydantic!=1.8,!=1.8.1,<1.11.0,>=1.7.4 in /Users/enricosimionato/opt/anaconda3/envs/NLP/lib/python3.9/site-packages (from spacy) (1.10.2)\n",
            "Requirement already satisfied: preshed<3.1.0,>=3.0.2 in /Users/enricosimionato/opt/anaconda3/envs/NLP/lib/python3.9/site-packages (from spacy) (3.0.6)\n",
            "Requirement already satisfied: typer<0.8.0,>=0.3.0 in /Users/enricosimionato/opt/anaconda3/envs/NLP/lib/python3.9/site-packages (from spacy) (0.4.1)\n",
            "Requirement already satisfied: setuptools in /Users/enricosimionato/opt/anaconda3/envs/NLP/lib/python3.9/site-packages (from spacy) (66.0.0)\n",
            "Requirement already satisfied: typing-extensions>=4.1.0 in /Users/enricosimionato/opt/anaconda3/envs/NLP/lib/python3.9/site-packages (from pydantic!=1.8,!=1.8.1,<1.11.0,>=1.7.4->spacy) (4.5.0)\n",
            "Requirement already satisfied: certifi>=2017.4.17 in /Users/enricosimionato/opt/anaconda3/envs/NLP/lib/python3.9/site-packages (from requests<3.0.0,>=2.13.0->spacy) (2022.12.7)\n",
            "Requirement already satisfied: idna<4,>=2.5 in /Users/enricosimionato/opt/anaconda3/envs/NLP/lib/python3.9/site-packages (from requests<3.0.0,>=2.13.0->spacy) (3.4)\n",
            "Requirement already satisfied: charset-normalizer<4,>=2 in /Users/enricosimionato/opt/anaconda3/envs/NLP/lib/python3.9/site-packages (from requests<3.0.0,>=2.13.0->spacy) (2.0.4)\n",
            "Requirement already satisfied: urllib3<1.27,>=1.21.1 in /Users/enricosimionato/opt/anaconda3/envs/NLP/lib/python3.9/site-packages (from requests<3.0.0,>=2.13.0->spacy) (1.26.15)\n",
            "Requirement already satisfied: confection<1.0.0,>=0.0.1 in /Users/enricosimionato/opt/anaconda3/envs/NLP/lib/python3.9/site-packages (from thinc<8.2.0,>=8.1.8->spacy) (0.0.4)\n",
            "Requirement already satisfied: blis<0.8.0,>=0.7.8 in /Users/enricosimionato/opt/anaconda3/envs/NLP/lib/python3.9/site-packages (from thinc<8.2.0,>=8.1.8->spacy) (0.7.9)\n",
            "Requirement already satisfied: click<9.0.0,>=7.1.1 in /Users/enricosimionato/opt/anaconda3/envs/NLP/lib/python3.9/site-packages (from typer<0.8.0,>=0.3.0->spacy) (8.0.4)\n",
            "Requirement already satisfied: MarkupSafe>=2.0 in /Users/enricosimionato/opt/anaconda3/envs/NLP/lib/python3.9/site-packages (from jinja2->spacy) (2.1.1)\n",
            "Requirement already satisfied: wordcloud in /Users/enricosimionato/opt/anaconda3/envs/NLP/lib/python3.9/site-packages (1.9.1.1)\n",
            "Requirement already satisfied: matplotlib in /Users/enricosimionato/opt/anaconda3/envs/NLP/lib/python3.9/site-packages (from wordcloud) (3.7.1)\n",
            "Requirement already satisfied: numpy>=1.6.1 in /Users/enricosimionato/opt/anaconda3/envs/NLP/lib/python3.9/site-packages (from wordcloud) (1.24.3)\n",
            "Requirement already satisfied: pillow in /Users/enricosimionato/opt/anaconda3/envs/NLP/lib/python3.9/site-packages (from wordcloud) (9.4.0)\n",
            "Requirement already satisfied: cycler>=0.10 in /Users/enricosimionato/opt/anaconda3/envs/NLP/lib/python3.9/site-packages (from matplotlib->wordcloud) (0.11.0)\n",
            "Requirement already satisfied: importlib-resources>=3.2.0 in /Users/enricosimionato/opt/anaconda3/envs/NLP/lib/python3.9/site-packages (from matplotlib->wordcloud) (5.2.0)\n",
            "Requirement already satisfied: python-dateutil>=2.7 in /Users/enricosimionato/opt/anaconda3/envs/NLP/lib/python3.9/site-packages (from matplotlib->wordcloud) (2.8.2)\n",
            "Requirement already satisfied: kiwisolver>=1.0.1 in /Users/enricosimionato/opt/anaconda3/envs/NLP/lib/python3.9/site-packages (from matplotlib->wordcloud) (1.4.4)\n",
            "Requirement already satisfied: contourpy>=1.0.1 in /Users/enricosimionato/opt/anaconda3/envs/NLP/lib/python3.9/site-packages (from matplotlib->wordcloud) (1.0.5)\n",
            "Requirement already satisfied: fonttools>=4.22.0 in /Users/enricosimionato/opt/anaconda3/envs/NLP/lib/python3.9/site-packages (from matplotlib->wordcloud) (4.25.0)\n",
            "Requirement already satisfied: packaging>=20.0 in /Users/enricosimionato/opt/anaconda3/envs/NLP/lib/python3.9/site-packages (from matplotlib->wordcloud) (23.0)\n",
            "Requirement already satisfied: pyparsing>=2.3.1 in /Users/enricosimionato/opt/anaconda3/envs/NLP/lib/python3.9/site-packages (from matplotlib->wordcloud) (3.0.9)\n",
            "Requirement already satisfied: zipp>=3.1.0 in /Users/enricosimionato/opt/anaconda3/envs/NLP/lib/python3.9/site-packages (from importlib-resources>=3.2.0->matplotlib->wordcloud) (3.11.0)\n",
            "Requirement already satisfied: six>=1.5 in /Users/enricosimionato/opt/anaconda3/envs/NLP/lib/python3.9/site-packages (from python-dateutil>=2.7->matplotlib->wordcloud) (1.16.0)\n",
            "Requirement already satisfied: plotly in /Users/enricosimionato/opt/anaconda3/envs/NLP/lib/python3.9/site-packages (5.14.1)\n",
            "Requirement already satisfied: tenacity>=6.2.0 in /Users/enricosimionato/opt/anaconda3/envs/NLP/lib/python3.9/site-packages (from plotly) (8.2.2)\n",
            "Requirement already satisfied: packaging in /Users/enricosimionato/opt/anaconda3/envs/NLP/lib/python3.9/site-packages (from plotly) (23.0)\n"
          ]
        }
      ],
      "source": [
        "# Installing the library needed in the following part of the project\n",
        "\n",
        "# Gensim pakage to use Word2Vec implementations\n",
        "! pip install --upgrade gensim\n",
        "\n",
        "# Sequence labeling library, used for POS tagging and NER\n",
        "! pip install -U spacy\n",
        "\n",
        "! pip install wordcloud\n",
        "\n",
        "! pip install plotly"
      ]
    },
    {
      "cell_type": "code",
      "execution_count": null,
      "metadata": {},
      "outputs": [],
      "source": [
        "# Dowloading an italian model from spacy\n",
        "! spacy download it_core_news_sm"
      ]
    },
    {
      "cell_type": "code",
      "execution_count": 96,
      "metadata": {
        "id": "iXMMltVMVFQO"
      },
      "outputs": [],
      "source": [
        "# Importing the main packages\n",
        "\n",
        "# Importing the utlity packages\n",
        "import string\n",
        "import numpy as np\n",
        "import random\n",
        "import pandas as pd\n",
        "from collections import Counter\n",
        "\n",
        "# Importing the packages for creating amazing plots\n",
        "import matplotlib.pyplot as plt\n",
        "from wordcloud import WordCloud\n",
        "import plotly.express as px\n",
        "\n",
        "# Importing the packages for POS tagging\n",
        "import spacy as spc\n",
        "\n",
        "# Importing the packages for creating the word embeddings\n",
        "from gensim.models.word2vec import Word2Vec\n",
        "\n",
        "# Importing the packages for doing dimensionality reduction\n",
        "from sklearn.manifold import TSNE\n"
      ]
    },
    {
      "cell_type": "code",
      "execution_count": 91,
      "metadata": {},
      "outputs": [],
      "source": [
        "# Defining the names of the datasets\n",
        "dataset_names = ['degasperi_train.tsv', 'degasperi_test.tsv', 'fiction_train.tsv',\\\n",
        "            'fiction_test.tsv', 'moro_train.tsv', 'moro_test.tsv',\\\n",
        "            'wikinews_train.tsv', 'wikinews_test.tsv']\n",
        "# Defining the path to datasets\n",
        "PATH_TO_DATASETS = './KIND_project/dataset/KIND-main/dataset'\n",
        "# Enrico's path, scusate ragazzi, sistemerò TO DOOOOOOOOOOOOOOOOO\n",
        "PATH_TO_DATASETS = '/Users/enricosimionato/Desktop/KIND_project/dataset/KIND-main/dataset'\n",
        "# Importing all the datasets in a dictionary\n",
        "datasets_dict = {name: pd.read_csv(PATH_TO_DATASETS+'/'+name, sep='\\t', header=None) for name in dataset_names}"
      ]
    },
    {
      "cell_type": "code",
      "execution_count": null,
      "metadata": {
        "id": "ZGkcqAEwVDL9"
      },
      "outputs": [],
      "source": [
        "# Defining the path to datasets\n",
        "PATH_TO_DATASETS = './KIND_project/dataset/KIND-main/dataset'\n",
        "# Enrico's path, scusate ragazzi, sistemerò TO DOOOOOOOOOOOOOOOOO\n",
        "PATH_TO_DATASETS = '/Users/enricosimionato/Desktop/KIND_project/dataset/KIND-main/dataset'\n",
        "\n",
        "# Loading the datasets\n",
        "dataset_degasperi = pd.read_csv(PATH_TO_DATASETS+'/degasperi_train.tsv', sep='\\t', header=None)\n",
        "dataset_degasperi = dataset_degasperi.rename(columns={0: 'Token', 1: 'Entity'})\n",
        "\n",
        "dataset_moro = pd.read_csv(PATH_TO_DATASETS+'/moro_train.tsv', sep='\\t', header=None)\n",
        "dataset_moro = dataset_moro.rename(columns={0: 'Token', 1: 'Entity'})\n",
        "\n",
        "dataset_fiction = pd.read_csv(PATH_TO_DATASETS+'/fiction_train.tsv', sep='\\t', header=None)\n",
        "dataset_fiction = dataset_fiction.rename(columns={0: 'Token', 1: 'Entity'})\n",
        "\n",
        "dataset_wikinews = pd.read_csv(PATH_TO_DATASETS+'/wikinews_train.tsv', sep='\\t', header=None)\n",
        "dataset_wikinews = dataset_wikinews.rename(columns={0: 'Token', 1: 'Entity'})"
      ]
    },
    {
      "cell_type": "code",
      "execution_count": null,
      "metadata": {},
      "outputs": [],
      "source": [
        "a=len(dataset_degasperi.where(dataset_degasperi['Token'].str.contains('\\n')))\n",
        "\n",
        "b=len(dataset_degasperi)\n",
        "print(str(a))\n",
        "print(str(b))\n",
        "\n",
        "get_string_from_df()\n",
        "dataset_degasperi['Token'][0]"
      ]
    },
    {
      "attachments": {},
      "cell_type": "markdown",
      "metadata": {
        "id": "6PMsuTVlfsNw"
      },
      "source": [
        "## Word embeddings representation\n",
        "\n",
        "A word embedding is the vectorial representation of a word. It is used for achieving a dense representation of the words in an high dimensional space. Other types of representation of the words, such as the bag of words representation, are sparse compared to word embeddings.\n",
        "The word embeddings allow to achieve better results in many fields of natural language processing.\n",
        "\n",
        "In particular we use Word2Vec in order to obtain the word embeddings of out dataset.\n",
        "Basic Word2Vec is a artificial neural network composed by two layers\n",
        "\n",
        "The inputs of the neural network are the words of the sentence to convert in the word embeddings representation.\n",
        "The first layer is a linear layer.\n",
        "The linear activation functions values are summed and put as outputs.\n",
        "At the end we appply a softmax layer.\n",
        "We want the model to prefict the next word in the sentence.\n",
        "I train the NN using the cross entropy as loss function.\n",
        "At the end of the training the weights connecting the inputs to the first hidden layer are the values of the dimensions of the word embedding.\n",
        "\n",
        "\n",
        "Two of the most used architecture of the Word2Vec are CBOW and Skip-Gram.\n",
        "\n",
        "The Continuous Bag of Words method uses many words surrounding the word I want to use in the prediction in the training step.\n",
        "The Skip-gram uses a word to predict the word in the surroundings.\n",
        "\n",
        "In some way the distribution in the various dimension is based on the similarity of the words in terms of semantics and usage.\n",
        "\n",
        "With word embeddings we can embed the context of the word inside its representation.\n"
      ]
    },
    {
      "attachments": {},
      "cell_type": "markdown",
      "metadata": {},
      "source": [
        "We start from the dataframe containing the tokens of the dataset.\n",
        "The pipeline used for the definition of the input of the word2vec model is the following:\n",
        "- (previous) the tokenization has already been done\n",
        "- merging the single elements in sentences splitting on the single dots\n",
        "- lowercasing all the tokens"
      ]
    },
    {
      "cell_type": "code",
      "execution_count": null,
      "metadata": {},
      "outputs": [],
      "source": [
        "for i in dataset_degasperi.iterrows():\n",
        "    print(i[1]['Token'])\n",
        "dataset_degasperi.shape"
      ]
    },
    {
      "cell_type": "code",
      "execution_count": 93,
      "metadata": {},
      "outputs": [],
      "source": [
        "def get_sentences_list_from_df(dataset_df):\n",
        "    '''\n",
        "    Parameters\n",
        "    ----------\n",
        "    dataset_df: DataFrame\n",
        "\n",
        "    Returns\n",
        "    -------\n",
        "    sentences_list: list\n",
        "\n",
        "    '''\n",
        "    punctuation = string.punctuation\n",
        "    sentences_list = [[]]\n",
        "    labels_list = [[]]\n",
        "    count = 0\n",
        "    \n",
        "    for element in dataset_df.iterrows():\n",
        "        if str(element[1]['Token']) == '.':\n",
        "            sentences_list.append([])\n",
        "            labels_list.append([])\n",
        "            count += 1\n",
        "        elif str(element[1]['Token']) not in punctuation:\n",
        "            sentences_list[count].append(element[1]['Token'].lower())\n",
        "            labels_list[count].append(element[1]['Entity'])\n",
        "            \n",
        "    return sentences_list\n",
        "\n",
        "def remove_short_sentences(sentences_list, min_length=3):\n",
        "    '''\n",
        "    Parameters\n",
        "    ----------\n",
        "    sentences_list: list\n",
        "\n",
        "    min_lenght: int\n",
        "\n",
        "    Returns\n",
        "    -------\n",
        "    sentences_list: list\n",
        "    \n",
        "    '''\n",
        "    for sentence in sentences_list:\n",
        "        if len(sentence) < min_length:\n",
        "            sentences_list.remove(sentence)\n",
        "    return sentences_list\n",
        "\n",
        "def get_all_sentences_from_datasets(datasets):\n",
        "    '''\n",
        "    Parameters\n",
        "    ----------\n",
        "    datasets: list\n",
        "\n",
        "    Returns\n",
        "    -------\n",
        "    overall_sentences: list\n",
        "    \n",
        "    '''\n",
        "    overall_sentences = list()\n",
        "    for dataset in datasets:\n",
        "        sentences = get_sentences_list_from_df(dataset_wikinews)\n",
        "        overall_sentences += remove_short_sentences(sentences)\n",
        "    return overall_sentences"
      ]
    },
    {
      "cell_type": "code",
      "execution_count": 94,
      "metadata": {},
      "outputs": [],
      "source": [
        "sentences = get_all_sentences_from_datasets(datasets_dict)"
      ]
    },
    {
      "cell_type": "code",
      "execution_count": null,
      "metadata": {},
      "outputs": [],
      "source": [
        "print(len(sentences))\n",
        "length_list= []\n",
        "for i in sentences:\n",
        "    length_list.append(len(i))\n",
        "max(length_list)"
      ]
    },
    {
      "cell_type": "code",
      "execution_count": 99,
      "metadata": {},
      "outputs": [],
      "source": [
        "# Definition of the Word2Vec model\n",
        "model = Word2Vec(sentences, vector_size=30, min_count=5, window=20)\n"
      ]
    },
    {
      "cell_type": "code",
      "execution_count": 100,
      "metadata": {},
      "outputs": [
        {
          "data": {
            "text/plain": [
              "20457"
            ]
          },
          "execution_count": 100,
          "metadata": {},
          "output_type": "execute_result"
        }
      ],
      "source": [
        "len(model.wv)"
      ]
    },
    {
      "cell_type": "code",
      "execution_count": 102,
      "metadata": {},
      "outputs": [
        {
          "data": {
            "text/plain": [
              "[('stamane', 0.8834317922592163),\n",
              " ('stroncato', 0.852630078792572),\n",
              " ('87', 0.8517850041389465),\n",
              " ('fiorentino', 0.8311015963554382),\n",
              " ('infarto', 0.8296903371810913),\n",
              " ('spento', 0.8228410482406616),\n",
              " ('deceduto', 0.8207120895385742),\n",
              " ('muore', 0.818594217300415),\n",
              " ('8:20', 0.8067953586578369),\n",
              " ('improvviso', 0.7975862622261047)]"
            ]
          },
          "execution_count": 102,
          "metadata": {},
          "output_type": "execute_result"
        }
      ],
      "source": [
        "term = 'morto'\n",
        "\n",
        "model.wv.most_similar(term)"
      ]
    },
    {
      "cell_type": "code",
      "execution_count": null,
      "metadata": {},
      "outputs": [],
      "source": [
        "\n",
        "sample = random.sample(list(model.wv.key_to_index), 500)\n",
        "print(sample)\n",
        "word_vectors = model.wv[sample] # Each row of the matrix is a word of the dataset\n",
        "\n",
        "tsne = TSNE(n_components=3, n_iter=2000)\n",
        "tsne_embedding = tsne.fit_transform(word_vectors)\n",
        "x, y, z = np.transpose(tsne_embedding)\n",
        "\n",
        "\n",
        "fig = px.scatter_3d(x=x[:200],y=y[:200],z=z[:200],text=sample[:200])\n",
        "fig.update_traces(marker=dict(size=3,line=dict(width=2)),textfont_size=10)\n",
        "fig.show()"
      ]
    },
    {
      "attachments": {},
      "cell_type": "markdown",
      "metadata": {},
      "source": [
        "## Computing the embeddings using a pretrained model"
      ]
    },
    {
      "cell_type": "code",
      "execution_count": null,
      "metadata": {},
      "outputs": [],
      "source": []
    },
    {
      "attachments": {},
      "cell_type": "markdown",
      "metadata": {},
      "source": [
        "##DA VALUTARE"
      ]
    },
    {
      "cell_type": "code",
      "execution_count": null,
      "metadata": {
        "id": "Fl5msGpYtt5K"
      },
      "outputs": [],
      "source": [
        "# Elia valuta se può essere utile, altrimenti eliminiamo\n",
        "def compute_statistics(dataset_name, dataset, statistics_df):\n",
        "  '''\n",
        "  Computes the statistics of the dataset and adds it into an aggregated structure\n",
        "\n",
        "  Parameters\n",
        "  ----------\n",
        "  dataset_name: str\n",
        "  dataset: DataFrame\n",
        "  statistics_df: DataFrame\n",
        "\n",
        "  Returns\n",
        "  -------\n",
        "  statistics_df: DataFrame\n",
        "  '''\n",
        "  if statistics_df is None:\n",
        "    columns = ['Dataset', 'Number of tokens', 'Number of unique tokens', 'Entity tag types']\n",
        "    statistics_df = pd.DataFrame([[dataset_name, len(dataset), len(dataset['Token'].unique()), sorted(dataset['Tag'].unique())]], columns=columns)\n",
        "  else:\n",
        "    columns = ['Dataset', 'Number of tokens', 'Number of unique tokens', 'Entity tag types']\n",
        "    statistics_df = pd.concat([statistics_df, pd.DataFrame([[dataset_name, len(dataset), len(dataset['Token'].unique()), sorted(dataset['Tag'].unique())]], columns=columns)])\n",
        "  return statistics_df\n",
        "\n",
        "\n",
        "\n",
        "  # Rimuovi l'hardcoding dei nomi delle colonne"
      ]
    },
    {
      "cell_type": "code",
      "execution_count": null,
      "metadata": {
        "id": "Yo7B5swCz1V2"
      },
      "outputs": [],
      "source": [
        "# Elia valuta se può essere utile, altrimenti eliminiamo\n",
        "datasets_df = []\n",
        "dataset_stats_df = None\n",
        "\n",
        "for dataset_name in dataset_names:\n",
        "  dataset_df = pd.read_csv(dataset_name, sep='\\t', names=['Token', 'Tag'])\n",
        "  datasets_df.append(dataset_df)\n",
        "  dataset_stats_df = compute_statistics(dataset_name, dataset_df, dataset_stats_df)\n",
        "\n",
        "dataset_stats_df.style.hide(axis='index')"
      ]
    },
    {
      "cell_type": "markdown",
      "metadata": {
        "id": "PfbNEkJZgDJe"
      },
      "source": [
        "## POS tagging"
      ]
    },
    {
      "cell_type": "code",
      "execution_count": null,
      "metadata": {
        "id": "NL0AA1eVdT3o"
      },
      "outputs": [],
      "source": [
        "# Loading the italian model\n",
        "nlp_model = it_core_news_sm.load()\n",
        "\n",
        "text_degasperi = ' '.join(dataset_degasperi.iloc[:, 0].tolist())\n",
        "parsed_text_degasperi = nlp_model(text_degasperi)\n",
        "\n",
        "text_fiction = ' '.join(dataset_fiction.iloc[:, 0].tolist())\n",
        "parsed_text_fiction = nlp_model(text_fiction)\n",
        "\n",
        "text_wikinews = ' '.join(dataset_wikinews.iloc[:, 0].tolist())\n",
        "parsed_text_wiki = nlp_model(text_wikinews[:1000000])\n",
        "\n",
        "text_moro = ' '.join(dataset_moro.iloc[:, 0].tolist())\n",
        "parsed_text_moro = nlp_model(text_moro[:1000000])"
      ]
    },
    {
      "cell_type": "code",
      "execution_count": null,
      "metadata": {
        "id": "DPRbor2ATNqR"
      },
      "outputs": [],
      "source": [
        "def merge_counters(counter1, counter2):\n",
        "\n",
        "  '''\n",
        "  Takes 2 counters with different shapes and in the smallest one ad also the key that are currently inside with a value of 0\n",
        "\n",
        "  Parameters\n",
        "  ----------\n",
        "  counter1: Counter\n",
        "    Counter with smallest shape that has to be incremented\n",
        "  counter2: Counter\n",
        "    Counter with the larger shape\n",
        "\n",
        "  Returns\n",
        "  -------\n",
        "  new_counter: Counter\n",
        "    Counter containing all the tuple of the smallest one and the tuples (key, 0) of the larger one that were no present in the small one\n",
        "  '''\n",
        "  new_counter = counter1    \n",
        "\n",
        "  for key, value in counter2.items():\n",
        "    if key not in new_counter.keys():\n",
        "      new_counter[key] = 0 \n",
        "\n",
        "  return new_counter"
      ]
    },
    {
      "cell_type": "code",
      "execution_count": null,
      "metadata": {
        "id": "tzmUyHYDw-eR"
      },
      "outputs": [],
      "source": [
        "def plot_wordCloud_counters(counters):\n",
        "\n",
        "  '''\n",
        "  Takes as input a list of counters and it plots the wordCloud\n",
        "\n",
        "  Parameters\n",
        "  ----------\n",
        "  cunters: list(Counter)\n",
        "    List of counters that has to be plotted. It does not require that all the counters has the same shape\n",
        "\n",
        "  '''\n",
        "\n",
        "  word_cloud_counter = Counter()\n",
        "  for counter in list_counters:\n",
        "    word_cloud_counter.update(counter)\n",
        "  # Generate a word cloud from the POS counts\n",
        "  wordcloud = WordCloud(background_color='white').generate_from_frequencies(word_cloud_counter)\n",
        "\n",
        "  # Plot the word cloud\n",
        "  plt.imshow(wordcloud, interpolation='bilinear')\n",
        "  plt.axis(\"off\")\n",
        "  plt.show()"
      ]
    },
    {
      "cell_type": "code",
      "execution_count": null,
      "metadata": {
        "id": "1oFiL_p2unFX"
      },
      "outputs": [],
      "source": [
        "def plot_groupedBar_counters(counters):\n",
        "\n",
        "  '''\n",
        "  Takes as input a list of counters and it plots in the same bar chart the counts\n",
        "\n",
        "  Parameters\n",
        "  ----------\n",
        "  cunters: list(Counter)\n",
        "    List of counters that has to be plotted. It does not require that all the counters has the same shape\n",
        "\n",
        "  '''\n",
        "  \n",
        "  max_length = max(map(len, list_counters))                         # max length of the counters\n",
        "  max_position = list(map(len, list_counters)).index(max_length)    # position in the list of the counter with max length\n",
        "\n",
        "  # For each counter that is not the one of maximum dimension I merge it with all the other ones. The result is a list with counters having all the same keys\n",
        "  for i in range(len(list_counters)):\n",
        "    if i != max_position:\n",
        "      list_counters[i] = merge_counters(list_counters[i], list_counters[max_position])\n",
        "\n",
        "  # We plot each counter inside the bar chart\n",
        "  x = np.arange(max_length)\n",
        "  width=0.2\n",
        "  multiplier = 0\n",
        "  for counter in list_counters:\n",
        "    offset = width * multiplier\n",
        "    labels, values = zip(*sorted(counter.items()))\n",
        "    plt.bar(x + offset, values, width=width)\n",
        "    multiplier += 1\n",
        "\n",
        "  plt.title(\"POS Tag Frequency Distribution Degasperi\")\n",
        "  plt.xlabel(\"POS Tag\")\n",
        "  plt.ylabel(\"Frequency\")\n",
        "  plt.xticks(x + width, sorted(list_counters[max_position]), rotation='vertical')\n",
        "  plt.show()"
      ]
    },
    {
      "cell_type": "code",
      "execution_count": null,
      "metadata": {
        "colab": {
          "base_uri": "https://localhost:8080/",
          "height": 773
        },
        "id": "6lIMU-RRiMsf",
        "outputId": "27b47598-98ff-4784-fbd2-e6c9cd5e889f"
      },
      "outputs": [],
      "source": [
        "# Get the frequency distribution of POS tags\n",
        "pos_freq_degasperi = Counter([token.pos_ for token in parsed_text_degasperi])\n",
        "pos_freq_fiction = Counter([token.pos_ for token in parsed_text_fiction])\n",
        "pos_freq_wiki = Counter([token.pos_ for token in parsed_text_wiki])\n",
        "pos_freq_moro = Counter([token.pos_ for token in parsed_text_moro])\n",
        "\n",
        "list_counters = [pos_freq_degasperi, pos_freq_fiction, pos_freq_wiki, pos_freq_moro]\n",
        "plot_groupedBar_counters(list_counters)\n",
        "plot_wordCloud_counters(list_counters)"
      ]
    },
    {
      "cell_type": "markdown",
      "metadata": {
        "id": "SoDrRGFIgFpZ"
      },
      "source": [
        "# CODICE ELIA"
      ]
    },
    {
      "cell_type": "markdown",
      "metadata": {
        "id": "gUVSRpgmEVNV"
      },
      "source": [
        "# KIND DATASET\n",
        "\n",
        "## Brief Description\n",
        "KIND (Kessler Italian Named-entities Dataset) is a dataset released in 2022 by researchers from Fondazione Bruno Kessler and the University of Trento. It contains 1 million tokens, of which 600K name-entities are manually annotated. The entities belong to 3 classes (people, location, organization). The texts come from various sources of the Italian language, such as news articles, literature, and political speeches, making it a multi-domain dataset. \n",
        "The following table shows the dataset composition:\n",
        "\n",
        "<table>\n",
        "  <thead>\n",
        "    <tr>\n",
        "      <th rowspan=\"2\">Dataset</th>\n",
        "      <th rowspan=\"2\">Documents</th>\n",
        "      <th rowspan=\"2\">Tokens</th>\n",
        "      <th colspan=\"4\">Train</th>\n",
        "      <th colspan=\"4\">Test</th>\n",
        "    </tr>\n",
        "    <tr>\n",
        "      <th>Total</th>\n",
        "      <th>PER</th>\n",
        "      <th>ORG</th>\n",
        "      <th>LOC</th>\n",
        "      <th>Total</th>\n",
        "      <th>PER</th>\n",
        "      <th>ORG</th>\n",
        "      <th>LOC</th>\n",
        "    </tr>\n",
        "  </thead>\n",
        "  <tbody>\n",
        "    <tr>\n",
        "      <td>Wikinews</td>\n",
        "      <td>1,000</td>\n",
        "      <td>308,622</td>\n",
        "      <td>247,528</td>\n",
        "      <td>8,928</td>\n",
        "      <td>7,593</td>\n",
        "      <td>6,862</td>\n",
        "      <td>61,094</td>\n",
        "      <td>1,802</td>\n",
        "      <td>1,823</td>\n",
        "      <td>1,711</td>\n",
        "    </tr>\n",
        "    <tr>\n",
        "      <td>Fiction</td>\n",
        "      <td>86</td>\n",
        "      <td>192,448</td>\n",
        "      <td>170,942</td>\n",
        "      <td>3,439</td>\n",
        "      <td>182</td>\n",
        "      <td>733</td>\n",
        "      <td>21,506</td>\n",
        "      <td>636</td>\n",
        "      <td>284</td>\n",
        "      <td>463</td>\n",
        "    </tr>\n",
        "    <tr>\n",
        "      <td>Aldo Moro</td>\n",
        "      <td>250</td>\n",
        "      <td>392,604</td>\n",
        "      <td>309,798</td>\n",
        "      <td>1,459</td>\n",
        "      <td>4,842</td>\n",
        "      <td>2,024</td>\n",
        "      <td>82,806</td>\n",
        "      <td>282</td>\n",
        "      <td>934</td>\n",
        "      <td>807</td>\n",
        "    </tr>\n",
        "    <tr>\n",
        "      <td>Alcide De Gasperi</td>\n",
        "      <td>158</td>\n",
        "      <td>150,632</td>\n",
        "      <td>117,997</td>\n",
        "      <td>1,129</td>\n",
        "      <td>2,396</td>\n",
        "      <td>1,046</td>\n",
        "      <td>32,635</td>\n",
        "      <td>253</td>\n",
        "      <td>533</td>\n",
        "      <td>274</td>\n",
        "    </tr>\n",
        "    <tr>\n",
        "      <td><strong>Total</strong></td>\n",
        "      <td><strong>1494</strong></td>\n",
        "      <td><strong>1,044,306</strong></td>\n",
        "      <td><strong>846,265</strong></td>\n",
        "      <td><strong>14,955</strong></td>\n",
        "      <td><strong>15,013</strong></td>\n",
        "      <td><strong>10,665</strong></td>\n",
        "      <td><strong>198,041</strong></td>\n",
        "      <td><strong>2,973</strong></td>\n",
        "      <td><strong>3,574</strong></td>\n",
        "      <td><strong>3,255</strong></td>\n",
        "    </tr>\n",
        "  </tbody>\n",
        "</table>\n",
        "\n",
        "\n",
        "##Annotation Tagging scheme\n",
        "The tokens of all datasets, except for Aldo Moro, have been manually labeled using the IOB (Inside-Outside-Beginning) convention: each entity is labeled as begin-of-entity (B-[ent]) or continuation-of-entity (I-[ent]). The annotations of the Aldo Moro dataset, instead, were carried out with a mixed process that used both manual and automatic annotations (subsequently checked by hand); due to some differences in the convention for annotation, this dataset does not contain information for composite entities (beginning, continuation). For more details, please refer to the paper related with the dataset release: https://arxiv.org/abs/2112.15099\n",
        "\n",
        "An example of the annotations is reported here: \n"
      ]
    },
    {
      "cell_type": "code",
      "execution_count": null,
      "metadata": {
        "id": "durfizxkrnhW"
      },
      "outputs": [],
      "source": [
        "# IOB annotation (from ADG_dev.tsv)\n",
        "Nel\tO\n",
        "nostro\tO\n",
        "Trentino\tB-LOC\n",
        "attraversiamo\tO\n",
        "un\tO\n",
        "momento\tO\n",
        "storico\tO\n",
        "importante\tO\n",
        ".\tO\n",
        "\n",
        "# non-IOB annotation (from moro_test.tsv)\n",
        "Dal\tO\n",
        "Consiglio\tORG\n",
        "nazionale\tORG\n",
        "del\tO\n",
        "‘\tO\n",
        "75\tO\n",
        "la\tO\n",
        "grande\tO\n",
        "stampa\tO\n",
        "parla\tO\n",
        "di\tO\n",
        "due\tO\n",
        "anime\tO\n",
        "contrapposte\tO\n",
        "del\tO\n",
        "partito\tO\n",
        ".\tO"
      ]
    },
    {
      "cell_type": "markdown",
      "metadata": {
        "id": "i9ejTFLxdf_z"
      },
      "source": []
    },
    {
      "cell_type": "code",
      "execution_count": null,
      "metadata": {
        "id": "UUxTIXvXdgoV"
      },
      "outputs": [],
      "source": [
        "def to_lowerCase(df):\n",
        "    return pd.DataFrame({'Token': df['Token'].str.lower(), 'Entity': df['Entity']})\n",
        "\n",
        "def add_column_names(df):\n",
        "    return  df.rename(columns={0: 'Token', 1: 'Entity'})\n",
        "\n",
        "\n",
        "ds = {'ds_dg' : pd.read_csv('./KIND_project/dataset/KIND-main/dataset/degasperi_train.tsv', sep='\\t', header=None),\n",
        "      'ds_mr' : pd.read_csv('./KIND_project/dataset/KIND-main/dataset/moro_train.tsv', sep='\\t', header=None),\n",
        "      'ds_fc' : pd.read_csv('./KIND_project/dataset/KIND-main/dataset/fiction_train.tsv', sep='\\t', header=None),\n",
        "      'ds_wn' : pd.read_csv('./KIND_project/dataset/KIND-main/dataset/wikinews_train.tsv', sep='\\t', header=None),\n",
        "      \n",
        "      'ds_dg_test' : pd.read_csv('./KIND_project/dataset/KIND-main/dataset/degasperi_test.tsv', sep='\\t', header=None),\n",
        "      'ds_mr_test' : pd.read_csv('./KIND_project/dataset/KIND-main/dataset/moro_test.tsv', sep='\\t', header=None),\n",
        "      'ds_fc_test' : pd.read_csv('./KIND_project/dataset/KIND-main/dataset/fiction_test.tsv', sep='\\t', header=None),\n",
        "      'ds_wn_test' : pd.read_csv('./KIND_project/dataset/KIND-main/dataset/wikinews_test.tsv', sep='\\t', header=None),\n",
        "      \n",
        "      'ds_dg_IOB' : pd.read_csv('./KIND_project/dataset/KIND-main/evalita-2023/ADG_train.tsv', sep='\\t', header=None),\n",
        "      'ds_fc_IOB' : pd.read_csv('./KIND_project/dataset/KIND-main/evalita-2023/FIC_train.tsv', sep='\\t', header=None),\n",
        "      'ds_wn_IOB' : pd.read_csv('./KIND_project/dataset/KIND-main/evalita-2023/WN_train.tsv', sep='\\t', header=None),\n",
        "      \n",
        "      'ds_dg_IOB_test' : pd.read_csv('./KIND_project/dataset/KIND-main/evalita-2023/ADG_dev.tsv', sep='\\t', header=None),\n",
        "      'ds_fc_IOB_test' : pd.read_csv('./KIND_project/dataset/KIND-main/evalita-2023/FIC_dev.tsv', sep='\\t', header=None),\n",
        "      'ds_wn_IOB_test' : pd.read_csv('./KIND_project/dataset/KIND-main/evalita-2023/WN_dev.tsv', sep='\\t', header=None),\n",
        "}\n",
        "\n",
        "# lowercasing tokens, adding column names, compute some stats\n",
        "avg_doc_len = 0\n",
        "avg_voc_size = 0\n",
        "\n",
        "stats = {}\n",
        "\n",
        "for i in ds.keys():     \n",
        "\n",
        "    stats[i] = {\n",
        "        'doc_len' : ds[i]['Token'].count(),\n",
        "        'voc_size' : ds[i]['Token'].nunique(),\n",
        "\n",
        "        'n_O' : sum(1 for k in ds[i]['Entity'] if k == 'O'),\n",
        "        'n_PER' : sum(1 for k in ds[i]['Entity'] if k == 'PER'), \n",
        "        'n_ORG' : sum(1 for k in ds[i]['Entity'] if k == 'ORG'),\n",
        "        'n_LOC' : sum(1 for k in ds[i]['Entity'] if k == 'LOC'),\n",
        "\n",
        "        'n_I-PER' : sum(1 for k in ds[i]['Entity'] if k == 'I-PER'), \n",
        "        'n_I-ORG' : sum(1 for k in ds[i]['Entity'] if k == 'I-ORG'),\n",
        "        'n_I-LOC' : sum(1 for k in ds[i]['Entity'] if k == 'I-LOC'),\n",
        "\n",
        "        'n_B-PER' : sum(1 for k in ds[i]['Entity'] if k == 'B-PER'), \n",
        "        'n_B-ORG' : sum(1 for k in ds[i]['Entity'] if k == 'B-ORG'),\n",
        "        'n_B-LOC' : sum(1 for k in ds[i]['Entity'] if k == 'B-LOC'),\n",
        "\n",
        "        'n_punct': sum(1 for k in ds[i]['Token'] if all(char in string.punctuation for char in k)),\n",
        "    }\n",
        "  \n",
        "avg_doc_len = sum(stats[i]['doc_len'] for i in stats.keys()) / len(stats.keys())\n",
        "avg_voc_size = sum(stats[i]['voc_size'] for i in stats.keys()) / len(stats.keys())"
      ]
    }
  ],
  "metadata": {
    "colab": {
      "include_colab_link": true,
      "provenance": []
    },
    "kernelspec": {
      "display_name": "Python 3",
      "name": "python3"
    },
    "language_info": {
      "codemirror_mode": {
        "name": "ipython",
        "version": 3
      },
      "file_extension": ".py",
      "mimetype": "text/x-python",
      "name": "python",
      "nbconvert_exporter": "python",
      "pygments_lexer": "ipython3",
      "version": "3.9.16"
    }
  },
  "nbformat": 4,
  "nbformat_minor": 0
}
