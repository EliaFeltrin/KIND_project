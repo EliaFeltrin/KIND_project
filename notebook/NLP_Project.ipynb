{
 "cells": [
  {
   "attachments": {},
   "cell_type": "markdown",
   "metadata": {
    "colab_type": "text",
    "id": "view-in-github"
   },
   "source": [
    "<a href=\"https://colab.research.google.com/github/EliaFeltrin/KIND_project/blob/main/NLP_Project.ipynb\" target=\"_parent\"><img src=\"https://colab.research.google.com/assets/colab-badge.svg\" alt=\"Open In Colab\"/></a>"
   ]
  },
  {
   "attachments": {},
   "cell_type": "markdown",
   "metadata": {
    "id": "iKwSQ3yjxA6I"
   },
   "source": [
    "# Name Entity Recognition"
   ]
  },
  {
   "cell_type": "code",
   "execution_count": null,
   "metadata": {
    "id": "oMU9U9-GzVvR"
   },
   "outputs": [],
   "source": [
    "def get_string_from_df(dataframe, puntuaction):\n",
    "  '''\n",
    "  Transforms the tokenized dataset into a single string.\n",
    "  \n",
    "  Parameters\n",
    "  ----------\n",
    "  dataframe: DataFrame\n",
    "    structure containing the tokenized dataset\n",
    "\n",
    "  Returns\n",
    "  -------\n",
    "  text: str\n",
    "    string concatenating all the tokens of the dataset\n",
    "  '''\n",
    "  text_df = dataframe.loc[:,'Token']\n",
    "  text = text_df[0]\n",
    "  for token in text_df[1:]:\n",
    "    text += (' ' + token) if token not in puntuaction else token\n",
    "  return text"
   ]
  },
  {
   "attachments": {},
   "cell_type": "markdown",
   "metadata": {
    "id": "_uSdgHpkxIGR"
   },
   "source": [
    "## Introduction"
   ]
  },
  {
   "attachments": {},
   "cell_type": "markdown",
   "metadata": {},
   "source": [
    "### Package Installation"
   ]
  },
  {
   "cell_type": "code",
   "execution_count": null,
   "metadata": {
    "id": "nLQhCXCbxy-f"
   },
   "outputs": [],
   "source": [
    "# Installing the library needed in the following part of the project\n",
    "\n",
    "# Installing the utlity packages\n",
    "#! pip install scipy\n",
    "#! pip install numpy\n",
    "#! pip install pandas\n",
    "\n",
    "# Installing the packages for creating amazing plots\n",
    "#! pip install matplotlib\n",
    "#! pip install wordcloud\n",
    "! pip install plotly\n",
    "! pip install --upgrade nbformat\n",
    "\n",
    "# Installing a package for sequence labeling, used for POS tagging and NER\n",
    "! pip install -U spacy\n",
    "\n",
    "# Installing the packages for creating the word embeddings\n",
    "! pip install --upgrade gensim\n",
    "! pip install fasttext\n",
    "\n",
    "# Installing the packages for doing dimensionality reduction\n",
    "#! pip install sklearn\n",
    "! pip install umap-learn\n",
    "! pip install python-terrier"
   ]
  },
  {
   "cell_type": "code",
   "execution_count": null,
   "metadata": {},
   "outputs": [],
   "source": [
    "# Dowloading an italian model from spacy\n",
    "! spacy download it_core_news_sm"
   ]
  },
  {
   "attachments": {},
   "cell_type": "markdown",
   "metadata": {},
   "source": [
    "### Package import"
   ]
  },
  {
   "cell_type": "code",
   "execution_count": null,
   "metadata": {
    "id": "iXMMltVMVFQO"
   },
   "outputs": [],
   "source": [
    "# Importing the main packages\n",
    "\n",
    "# Importing the utlity packages\n",
    "import string\n",
    "import numpy as np\n",
    "import random\n",
    "import pandas as pd\n",
    "from collections import Counter\n",
    "\n",
    "# Importing the packages for creating amazing plots\n",
    "import matplotlib.pyplot as plt\n",
    "from wordcloud import WordCloud\n",
    "import plotly.express as px\n",
    "\n",
    "\n",
    "# Importing the packages for POS tagging\n",
    "import spacy as spc\n",
    "\n",
    "# Importing the packages for creating the word embeddings\n",
    "from gensim.models.word2vec import Word2Vec\n",
    "#import fasttext\n",
    "#import fasttext.util\n",
    "\n",
    "# Importing the packages for doing dimensionality reduction\n",
    "from sklearn.manifold import TSNE\n",
    "#import umap\n",
    "import pyterrier as pt\n",
    "if not pt.started():\n",
    "  pt.init()"
   ]
  },
  {
   "cell_type": "code",
   "execution_count": null,
   "metadata": {},
   "outputs": [],
   "source": [
    "# Defining the names of the datasets\n",
    "dataset_names = ['degasperi_train.tsv', 'degasperi_test.tsv', 'fiction_train.tsv',\\\n",
    "            'fiction_test.tsv', 'moro_train.tsv', 'moro_test.tsv',\\\n",
    "            'wikinews_train.tsv', 'wikinews_test.tsv']\n",
    "# Defining the path to datasets\n",
    "PATH_TO_DATASETS = '../datasets/Inside_outside_NER_notation'\n",
    "# Enrico's path, scusate ragazzi, sistemerò TO DOOOOOOOOOOOOOOOOO\n",
    "#PATH_TO_DATASETS = '/Users/enricosimionato/Desktop/KIND_project/datasets/Inside_outside_NER_notation'\n",
    "# Importing all the datasets in a dictionary\n",
    "datasets_dict = {name: pd.read_csv(PATH_TO_DATASETS+'/'+name, sep='[\\t|\\n]', names=['Token', 'Entity'], engine='python') for name in dataset_names}"
   ]
  },
  {
   "cell_type": "code",
   "execution_count": null,
   "metadata": {
    "id": "ZGkcqAEwVDL9"
   },
   "outputs": [],
   "source": [
    "# Defining the path to datasets\n",
    "PATH_TO_DATASETS = '../datasets/Inside_outside_NER_notation'\n",
    "# Enrico's path, scusate ragazzi, sistemerò TO DOOOOOOOOOOOOOOOOO\n",
    "#PATH_TO_DATASETS = '/Users/enricosimionato/Desktop/KIND_project/datasets/Inside_outside_NER_notation'\n",
    "\n",
    "# Loading the datasets\n",
    "dataset_degasperi = pd.read_csv(PATH_TO_DATASETS+'/degasperi_train.tsv', sep='\\t', header=None)\n",
    "dataset_degasperi = dataset_degasperi.rename(columns={0: 'Token', 1: 'Entity'})\n",
    "\n",
    "dataset_moro = pd.read_csv(PATH_TO_DATASETS+'/moro_train.tsv', sep='\\t', header=None)\n",
    "dataset_moro = dataset_moro.rename(columns={0: 'Token', 1: 'Entity'})\n",
    "\n",
    "dataset_fiction = pd.read_csv(PATH_TO_DATASETS+'/fiction_train.tsv', sep='\\t', header=None)\n",
    "dataset_fiction = dataset_fiction.rename(columns={0: 'Token', 1: 'Entity'})\n",
    "\n",
    "dataset_wikinews = pd.read_csv(PATH_TO_DATASETS+'/wikinews_train.tsv', sep='\\t', header=None)\n",
    "dataset_wikinews = dataset_wikinews.rename(columns={0: 'Token', 1: 'Entity'})"
   ]
  },
  {
   "cell_type": "code",
   "execution_count": null,
   "metadata": {},
   "outputs": [],
   "source": [
    "a=len(dataset_degasperi.where(dataset_degasperi['Token'].str.contains('\\n')))\n",
    "\n",
    "b=len(dataset_degasperi)\n",
    "print(str(a))\n",
    "print(str(b))\n",
    "\n",
    "get_string_from_df()\n",
    "dataset_degasperi['Token'][0]"
   ]
  },
  {
   "attachments": {},
   "cell_type": "markdown",
   "metadata": {
    "id": "6PMsuTVlfsNw"
   },
   "source": [
    "## Word embeddings representation\n",
    "\n",
    "A word embedding is the vectorial representation of a word. It is used for achieving a dense representation of the words in an high dimensional space. Other types of representation of the words, such as the bag of words representation, are sparse compared to word embeddings.\n",
    "The word embeddings allow to achieve better results in many fields of natural language processing.\n",
    "\n",
    "In particular we use Word2Vec in order to obtain the word embeddings of out dataset.\n",
    "Basic Word2Vec is a artificial neural network composed by two layers\n",
    "\n",
    "The inputs of the neural network are the words of the sentence to convert in the word embeddings representation.\n",
    "The first layer is a linear layer.\n",
    "The linear activation functions values are summed and put as outputs.\n",
    "At the end we appply a softmax layer.\n",
    "We want the model to prefict the next word in the sentence.\n",
    "I train the NN using the cross entropy as loss function.\n",
    "At the end of the training the weights connecting the inputs to the first hidden layer are the values of the dimensions of the word embedding.\n",
    "\n",
    "\n",
    "Two of the most used architecture of the Word2Vec are CBOW and Skip-Gram.\n",
    "\n",
    "The Continuous Bag of Words method uses many words surrounding the word I want to use in the prediction in the training step.\n",
    "The Skip-gram uses a word to predict the word in the surroundings.\n",
    "\n",
    "In some way the distribution in the various dimension is based on the similarity of the words in terms of semantics and usage.\n",
    "\n",
    "With word embeddings we can embed the context of the word inside its representation.\n"
   ]
  },
  {
   "attachments": {},
   "cell_type": "markdown",
   "metadata": {},
   "source": [
    "We start from the dataframe containing the tokens of the dataset.\n",
    "The pipeline used for the definition of the input of the word2vec model is the following:\n",
    "- (previous) the tokenization has already been done\n",
    "- merging the single elements in sentences splitting on the single dots\n",
    "- lowercasing all the tokens"
   ]
  },
  {
   "cell_type": "code",
   "execution_count": null,
   "metadata": {},
   "outputs": [],
   "source": [
    "# Defining some funtion useful for havinf the correct structure of the dataset in order to define the word embeddings\n",
    "def get_sentences_list_from_df(dataset_df):\n",
    "    '''\n",
    "    Parameters\n",
    "    ----------\n",
    "    dataset_df: DataFrame\n",
    "\n",
    "    Returns\n",
    "    -------\n",
    "    sentences_list: list\n",
    "\n",
    "    '''\n",
    "    punctuation = string.punctuation\n",
    "    sentences_list = [[]]\n",
    "    labels_list = [[]]\n",
    "    count = 0\n",
    "    \n",
    "    for element in dataset_df.iterrows():\n",
    "        if str(element[1]['Token']) == '.':\n",
    "            sentences_list.append([])\n",
    "            labels_list.append([])\n",
    "            count += 1\n",
    "        elif str(element[1]['Token']) not in punctuation:\n",
    "            sentences_list[count].append(element[1]['Token'].lower())\n",
    "            labels_list[count].append(element[1]['Entity'])\n",
    "            \n",
    "    return sentences_list, labels_list\n",
    "\n",
    "def remove_short_sentences(sentences_list, labels_list, min_length=3):\n",
    "    '''\n",
    "    Parameters\n",
    "    ----------\n",
    "    sentences_list: list\n",
    "\n",
    "    min_lenght: int\n",
    "\n",
    "    Returns\n",
    "    -------\n",
    "    sentences_list: list\n",
    "    \n",
    "    '''\n",
    "    new_sentences_list = list()\n",
    "    new_labels_list = list()\n",
    "    for idx in range(len(sentences_list)):\n",
    "        if len(sentences_list[idx]) >= min_length:\n",
    "            new_sentences_list.append(sentences_list[idx])\n",
    "            new_labels_list.append(labels_list[idx])\n",
    "    \n",
    "    return new_sentences_list, new_labels_list\n",
    "\n",
    "def get_all_sentences_from_datasets(datasets):\n",
    "    '''\n",
    "    Parameters\n",
    "    ----------\n",
    "    datasets: dict\n",
    "\n",
    "    Returns\n",
    "    -------\n",
    "    overall_sentences: list\n",
    "    \n",
    "    '''\n",
    "    overall_sentences = list()\n",
    "    overall_labels = list()\n",
    "    for key in datasets.keys():\n",
    "        sentences, labels = get_sentences_list_from_df(datasets[key])\n",
    "        sentences, labels = remove_short_sentences(sentences, labels)\n",
    "        overall_sentences += sentences\n",
    "        overall_labels += labels\n",
    "    return overall_sentences, overall_labels"
   ]
  },
  {
   "attachments": {},
   "cell_type": "markdown",
   "metadata": {},
   "source": [
    "### Word embeddings trained on all the data\n",
    "\n",
    "We choose to try the definition of the word embeddings model on different portions of the dataset. Firstly we try to define the word embeddings on the entire data we have since the larger is the dataset the better will be the our model and the wider will be the dictionary."
   ]
  },
  {
   "cell_type": "code",
   "execution_count": null,
   "metadata": {},
   "outputs": [],
   "source": [
    "# Getting the sentences in the correct format to create the embeddings representation of the words\n",
    "sentences, labels = get_all_sentences_from_datasets(datasets_dict)\n",
    "# Printing 10 lists of token\n",
    "sentences[:10]"
   ]
  },
  {
   "cell_type": "code",
   "execution_count": null,
   "metadata": {},
   "outputs": [],
   "source": [
    "# To check that there are no tabs or new lines inside the tokens\n",
    "found = False\n",
    "for name in dataset_names:\n",
    "    for i, el in datasets_dict[name].iterrows():\n",
    "        if '\\t' in el['Token'] or '\\n' in el['Token']:\n",
    "            found = True\n",
    "            print(el['Token'])\n",
    "if found:\n",
    "    print('There is something wrong, there tab or new line characters, are check the import of the dataset :(')\n",
    "else:\n",
    "    print('No tab or new line characters found, Great job!')"
   ]
  },
  {
   "cell_type": "code",
   "execution_count": null,
   "metadata": {},
   "outputs": [],
   "source": [
    "# Printing some information about the list of lists of token\n",
    "print('The total number of sentences in the dataset is ' + str(len(sentences)))\n",
    "length_list= []\n",
    "for i in sentences:\n",
    "    length_list.append(len(i))\n",
    "print('The maximum lenght of a sentence is ' + str(max(length_list)))"
   ]
  },
  {
   "cell_type": "code",
   "execution_count": null,
   "metadata": {},
   "outputs": [],
   "source": [
    "# Definition of the Word2Vec model\n",
    "embeddings_model = Word2Vec(sentences, vector_size=30, min_count=2, window=20)\n",
    "# Printing the length of the vocabulary\n",
    "len(embeddings_model.wv)"
   ]
  },
  {
   "cell_type": "code",
   "execution_count": null,
   "metadata": {},
   "outputs": [],
   "source": [
    "# Searching the most similar word to a specific word\n",
    "term = 'governo'\n",
    "embeddings_model.wv.most_similar(term.lower())"
   ]
  },
  {
   "cell_type": "code",
   "execution_count": null,
   "metadata": {},
   "outputs": [],
   "source": [
    "# Computing the dimensionality reduction of the word embeddings space\n",
    "word_samples = random.sample(list(embeddings_model.wv.key_to_index), 500)\n",
    "word_vectors = embeddings_model.wv[word_samples]\n",
    "\n",
    "tsne = TSNE(n_components=3, n_iter=2000)\n",
    "tsne_embeddings = tsne.fit_transform(word_vectors)\n",
    "x, y, z = np.transpose(tsne_embeddings)"
   ]
  },
  {
   "cell_type": "code",
   "execution_count": null,
   "metadata": {},
   "outputs": [],
   "source": [
    "# Plotting the word embeddings of the model\n",
    "fig = px.scatter_3d(x=x, y=y, z=z, text=word_samples)\n",
    "fig.update_traces(marker=dict(size=3, line=dict(width=2)), textfont_size=6)\n",
    "fig.show()"
   ]
  },
  {
   "attachments": {},
   "cell_type": "markdown",
   "metadata": {},
   "source": [
    "Now it is analyzed the word embeddings trained only on the training datasets that could be useful in the next part of the project since they can be used for performing name-entity recognition. Then it is also computed and analyzed the word embeddings trained on the datasets separately."
   ]
  },
  {
   "cell_type": "code",
   "execution_count": null,
   "metadata": {},
   "outputs": [],
   "source": [
    "# Getting the sentences in the correct format to create the embeddings representation of the words\n",
    "dataset_train_names = [key for key in dataset_names if 'train' in key]\n",
    "sentences_train, labels_train = get_all_sentences_from_datasets({name:datasets_dict[name] for name in dataset_train_names})\n",
    "# Definition of the Word2Vec model\n",
    "embeddings_model_train = Word2Vec(sentences_train, vector_size=30, min_count=2, window=20)"
   ]
  },
  {
   "cell_type": "code",
   "execution_count": null,
   "metadata": {},
   "outputs": [],
   "source": [
    "# Printing the length of the vocabulary\n",
    "len(embeddings_model_train.wv)"
   ]
  },
  {
   "cell_type": "code",
   "execution_count": null,
   "metadata": {},
   "outputs": [],
   "source": [
    "# Searching the most similar word to a specific word\n",
    "term = 'governo'\n",
    "embeddings_model_train.wv.most_similar(term.lower())"
   ]
  },
  {
   "cell_type": "code",
   "execution_count": null,
   "metadata": {},
   "outputs": [],
   "source": [
    "# Computing the dimensionality reduction of the word embeddings space\n",
    "word_samples_train = random.sample(list(embeddings_model_train.wv.key_to_index), 500)\n",
    "word_vectors_train = embeddings_model_train.wv[word_samples_train]\n",
    "\n",
    "tsne = TSNE(n_components=3, n_iter=2000)\n",
    "tsne_embeddings = tsne.fit_transform(word_vectors_train)\n",
    "x_train, y_train, z_train = np.transpose(tsne_embeddings)"
   ]
  },
  {
   "cell_type": "code",
   "execution_count": null,
   "metadata": {},
   "outputs": [],
   "source": [
    "# Plotting the word embeddings of the model\n",
    "fig = px.scatter_3d(x=x_train, y=y_train, z=z_train, text=word_samples_train)\n",
    "fig.update_traces(marker=dict(size=3, line=dict(width=2)), textfont_size=6)\n",
    "fig.show()"
   ]
  },
  {
   "attachments": {},
   "cell_type": "markdown",
   "metadata": {},
   "source": [
    "The dictionary is a bit smaller but still big and the results are quite good. Train set and test set are usually separate and so I could create the embeddings model for the train set first and then model inside it the test set."
   ]
  },
  {
   "cell_type": "code",
   "execution_count": null,
   "metadata": {},
   "outputs": [],
   "source": [
    "# Getting the sentences in the correct format to create the embeddings representation of the words\n",
    "dataset_train_names = [key for key in dataset_names if 'train' in key]\n",
    "sentences_train_separate = {}\n",
    "labels_train_separate = {}\n",
    "embeddings_model_train_separate = {}\n",
    "for name in dataset_train_names:\n",
    "    sentences_train_sep, labels_train_sep = get_all_sentences_from_datasets({name:datasets_dict[name]})\n",
    "    sentences_train_separate[name] = sentences_train_sep\n",
    "    labels_train_separate[name] = labels_train_sep\n",
    "\n",
    "    # Definition of the Word2Vec model\n",
    "    embeddings_model_train_separate[name] = Word2Vec(sentences_train_sep, vector_size=30, min_count=2, window=20)"
   ]
  },
  {
   "cell_type": "code",
   "execution_count": null,
   "metadata": {},
   "outputs": [],
   "source": [
    "# Printing the length of the vocabularies of the various datasets\n",
    "for name in dataset_train_names:\n",
    "    print('The dictionary of the dataset ' + name + ' is long ' + str(len(embeddings_model_train_separate[name].wv)) + ' words')"
   ]
  },
  {
   "cell_type": "code",
   "execution_count": null,
   "metadata": {},
   "outputs": [],
   "source": [
    "# Searching the most similar word to a specific word\n",
    "for name in dataset_train_names:\n",
    "    term = 'governo'\n",
    "    print(name + ':' + str(embeddings_model_train_separate[name].wv.most_similar(term.lower())))"
   ]
  },
  {
   "attachments": {},
   "cell_type": "markdown",
   "metadata": {},
   "source": [
    "It is easy to understand that the dictionaries in this case are smaller since the overall words are splitted in many models.\n",
    "Trying to search the most similar embeddings to a given word in many different fields and for the different datasets we can see that better performace are achieved by the datasets that are specialized in that field, e.g. fiction_train finds worst results (less related word embeddings) for the word 'governo' than the other datasets, which deal with news and politics."
   ]
  },
  {
   "cell_type": "code",
   "execution_count": null,
   "metadata": {},
   "outputs": [],
   "source": [
    "# Computing the dimensionality reduction of the word embeddings space\n",
    "#word_samples_train = embeddings_model_train.wv.key_to_index\n",
    "#word_vectors_train = embeddings_model_train.wv[list(embeddings_model_train.wv.key_to_index)]\n",
    "\n",
    "#tsne = TSNE(n_components=3, n_iter=1000)\n",
    "#tsne_embeddings = tsne.fit_transform(word_vectors_train)\n",
    "#x_train, y_train, z_train = np.transpose(tsne_embeddings)"
   ]
  },
  {
   "cell_type": "code",
   "execution_count": null,
   "metadata": {},
   "outputs": [],
   "source": [
    "# Plotting the word embeddings of the model\n",
    "#fig = px.scatter_3d(x=x_train, y=y_train, z=z_train, text=word_samples_train)\n",
    "#fig.update_traces(marker=dict(size=3, line=dict(width=2)), textfont_size=6)\n",
    "#fig.show()"
   ]
  },
  {
   "cell_type": "code",
   "execution_count": null,
   "metadata": {},
   "outputs": [],
   "source": [
    "# TO DOOOOOOO\n",
    "\n",
    "#fig = plt.figure(figsize=(15, 10))\n",
    "#ax = fig.add_subplot(111, projection='3d')\n",
    "#ax.scatter(x, y, z, c=LabelEncoder().fit_transform(labels), marker='.');"
   ]
  },
  {
   "attachments": {},
   "cell_type": "markdown",
   "metadata": {},
   "source": [
    "## Computing the embeddings using a pretrained model FastText"
   ]
  },
  {
   "cell_type": "code",
   "execution_count": null,
   "metadata": {},
   "outputs": [],
   "source": [
    "#!wget http://dl.fbaipublicfiles.com/fasttext/vectors-crawl/cc.en.300.bin.gz\n",
    "#!gzip -d cc.en.300.bin.gz"
   ]
  },
  {
   "cell_type": "code",
   "execution_count": null,
   "metadata": {},
   "outputs": [],
   "source": [
    "#ft = fasttext.load_model('cc.en.300.bin')"
   ]
  },
  {
   "cell_type": "code",
   "execution_count": null,
   "metadata": {},
   "outputs": [],
   "source": []
  },
  {
   "attachments": {},
   "cell_type": "markdown",
   "metadata": {},
   "source": [
    "## Clustering\n"
   ]
  },
  {
   "cell_type": "code",
   "execution_count": null,
   "metadata": {},
   "outputs": [],
   "source": []
  },
  {
   "cell_type": "code",
   "execution_count": null,
   "metadata": {},
   "outputs": [],
   "source": []
  },
  {
   "cell_type": "code",
   "execution_count": null,
   "metadata": {},
   "outputs": [],
   "source": []
  },
  {
   "attachments": {},
   "cell_type": "markdown",
   "metadata": {
    "id": "PfbNEkJZgDJe"
   },
   "source": [
    "## POS tagging"
   ]
  },
  {
   "cell_type": "code",
   "execution_count": null,
   "metadata": {
    "id": "NL0AA1eVdT3o"
   },
   "outputs": [],
   "source": [
    "# Loading the italian model\n",
    "nlp_model = it_core_news_sm.load()\n",
    "\n",
    "text_degasperi = ' '.join(dataset_degasperi.iloc[:, 0].tolist())\n",
    "parsed_text_degasperi = nlp_model(text_degasperi)\n",
    "\n",
    "text_fiction = ' '.join(dataset_fiction.iloc[:, 0].tolist())\n",
    "parsed_text_fiction = nlp_model(text_fiction)\n",
    "\n",
    "text_wikinews = ' '.join(dataset_wikinews.iloc[:, 0].tolist())\n",
    "parsed_text_wiki = nlp_model(text_wikinews[:1000000])\n",
    "\n",
    "text_moro = ' '.join(dataset_moro.iloc[:, 0].tolist())\n",
    "parsed_text_moro = nlp_model(text_moro[:1000000])"
   ]
  },
  {
   "cell_type": "code",
   "execution_count": null,
   "metadata": {
    "id": "DPRbor2ATNqR"
   },
   "outputs": [],
   "source": [
    "def merge_counters(counter1, counter2):\n",
    "\n",
    "  '''\n",
    "  Takes 2 counters with different shapes and in the smallest one ad also the key that are currently inside with a value of 0\n",
    "\n",
    "  Parameters\n",
    "  ----------\n",
    "  counter1: Counter\n",
    "    Counter with smallest shape that has to be incremented\n",
    "  counter2: Counter\n",
    "    Counter with the larger shape\n",
    "\n",
    "  Returns\n",
    "  -------\n",
    "  new_counter: Counter\n",
    "    Counter containing all the tuple of the smallest one and the tuples (key, 0) of the larger one that were no present in the small one\n",
    "  '''\n",
    "  new_counter = counter1    \n",
    "\n",
    "  for key, value in counter2.items():\n",
    "    if key not in new_counter.keys():\n",
    "      new_counter[key] = 0 \n",
    "\n",
    "  return new_counter"
   ]
  },
  {
   "cell_type": "code",
   "execution_count": null,
   "metadata": {
    "id": "tzmUyHYDw-eR"
   },
   "outputs": [],
   "source": [
    "def plot_wordCloud_counters(counters):\n",
    "\n",
    "  '''\n",
    "  Takes as input a list of counters and it plots the wordCloud\n",
    "\n",
    "  Parameters\n",
    "  ----------\n",
    "  cunters: list(Counter)\n",
    "    List of counters that has to be plotted. It does not require that all the counters has the same shape\n",
    "\n",
    "  '''\n",
    "\n",
    "  word_cloud_counter = Counter()\n",
    "  for counter in list_counters:\n",
    "    word_cloud_counter.update(counter)\n",
    "  # Generate a word cloud from the POS counts\n",
    "  wordcloud = WordCloud(background_color='white').generate_from_frequencies(word_cloud_counter)\n",
    "\n",
    "  # Plot the word cloud\n",
    "  plt.imshow(wordcloud, interpolation='bilinear')\n",
    "  plt.axis(\"off\")\n",
    "  plt.show()"
   ]
  },
  {
   "cell_type": "code",
   "execution_count": null,
   "metadata": {
    "id": "1oFiL_p2unFX"
   },
   "outputs": [],
   "source": [
    "def plot_groupedBar_counters(counters):\n",
    "\n",
    "  '''\n",
    "  Takes as input a list of counters and it plots in the same bar chart the counts\n",
    "\n",
    "  Parameters\n",
    "  ----------\n",
    "  cunters: list(Counter)\n",
    "    List of counters that has to be plotted. It does not require that all the counters has the same shape\n",
    "\n",
    "  '''\n",
    "  \n",
    "  max_length = max(map(len, list_counters))                         # max length of the counters\n",
    "  max_position = list(map(len, list_counters)).index(max_length)    # position in the list of the counter with max length\n",
    "\n",
    "  # For each counter that is not the one of maximum dimension I merge it with all the other ones. The result is a list with counters having all the same keys\n",
    "  for i in range(len(list_counters)):\n",
    "    if i != max_position:\n",
    "      list_counters[i] = merge_counters(list_counters[i], list_counters[max_position])\n",
    "\n",
    "  # We plot each counter inside the bar chart\n",
    "  x = np.arange(max_length)\n",
    "  width=0.2\n",
    "  multiplier = 0\n",
    "  for counter in list_counters:\n",
    "    offset = width * multiplier\n",
    "    labels, values = zip(*sorted(counter.items()))\n",
    "    plt.bar(x + offset, values, width=width)\n",
    "    multiplier += 1\n",
    "\n",
    "  plt.title(\"POS Tag Frequency Distribution Degasperi\")\n",
    "  plt.xlabel(\"POS Tag\")\n",
    "  plt.ylabel(\"Frequency\")\n",
    "  plt.xticks(x + width, sorted(list_counters[max_position]), rotation='vertical')\n",
    "  plt.show()"
   ]
  },
  {
   "cell_type": "code",
   "execution_count": null,
   "metadata": {
    "colab": {
     "base_uri": "https://localhost:8080/",
     "height": 773
    },
    "id": "6lIMU-RRiMsf",
    "outputId": "27b47598-98ff-4784-fbd2-e6c9cd5e889f"
   },
   "outputs": [],
   "source": [
    "# Get the frequency distribution of POS tags\n",
    "pos_freq_degasperi = Counter([token.pos_ for token in parsed_text_degasperi])\n",
    "pos_freq_fiction = Counter([token.pos_ for token in parsed_text_fiction])\n",
    "pos_freq_wiki = Counter([token.pos_ for token in parsed_text_wiki])\n",
    "pos_freq_moro = Counter([token.pos_ for token in parsed_text_moro])\n",
    "\n",
    "list_counters = [pos_freq_degasperi, pos_freq_fiction, pos_freq_wiki, pos_freq_moro]\n",
    "plot_groupedBar_counters(list_counters)\n",
    "plot_wordCloud_counters(list_counters)"
   ]
  },
  {
   "attachments": {},
   "cell_type": "markdown",
   "metadata": {},
   "source": [
    "# Indexing"
   ]
  },
  {
   "cell_type": "code",
   "execution_count": null,
   "metadata": {
    "collapsed": false
   },
   "outputs": [],
   "source": [
    "sentences, labels = get_sentences_list_from_df(dataset_degasperi)"
   ]
  },
  {
   "cell_type": "code",
   "execution_count": null,
   "metadata": {},
   "outputs": [],
   "source": [
    "sentences_df = pd.DataFrame(columns=['docno', 'text'])\n",
    "\n",
    "for i in range(len(sentences)):\n",
    "    sentences_df.loc[i] = [f'd{i}', ' '.join(sentences[i])]"
   ]
  },
  {
   "cell_type": "code",
   "execution_count": null,
   "metadata": {},
   "outputs": [],
   "source": [
    "sentences_df"
   ]
  },
  {
   "cell_type": "code",
   "execution_count": null,
   "metadata": {},
   "outputs": [],
   "source": [
    "index_path = \"./index\"\n",
    "\n",
    "indexer = pt.DFIndexer(index_path, overwrite=True)\n",
    "index_ref = indexer.index(sentences_df['text'], sentences_df['docno'])"
   ]
  },
  {
   "cell_type": "code",
   "execution_count": null,
   "metadata": {
    "collapsed": false
   },
   "outputs": [],
   "source": [
    "index = pt.IndexFactory.of(index_ref)\n",
    "print(index.getCollectionStatistics().toString())"
   ]
  },
  {
   "attachments": {},
   "cell_type": "markdown",
   "metadata": {
    "id": "SoDrRGFIgFpZ"
   },
   "source": [
    "# CODICE ELIA"
   ]
  },
  {
   "attachments": {},
   "cell_type": "markdown",
   "metadata": {
    "id": "gUVSRpgmEVNV"
   },
   "source": [
    "# KIND DATASET\n",
    "\n",
    "## Brief Description\n",
    "KIND (Kessler Italian Named-entities Dataset) is a dataset released in 2022 by researchers from Fondazione Bruno Kessler and the University of Trento. It contains 1 million tokens, of which 600K name-entities are manually annotated. The entities belong to 3 classes (people, location, organization). The texts come from various sources of the Italian language, such as news articles, literature, and political speeches, making it a multi-domain dataset. \n",
    "The following table shows the dataset composition:\n",
    "\n",
    "<table>\n",
    "  <thead>\n",
    "    <tr>\n",
    "      <th rowspan=\"2\">Dataset</th>\n",
    "      <th rowspan=\"2\">Documents</th>\n",
    "      <th rowspan=\"2\">Tokens</th>\n",
    "      <th colspan=\"4\">Train</th>\n",
    "      <th colspan=\"4\">Test</th>\n",
    "    </tr>\n",
    "    <tr>\n",
    "      <th>Total</th>\n",
    "      <th>PER</th>\n",
    "      <th>ORG</th>\n",
    "      <th>LOC</th>\n",
    "      <th>Total</th>\n",
    "      <th>PER</th>\n",
    "      <th>ORG</th>\n",
    "      <th>LOC</th>\n",
    "    </tr>\n",
    "  </thead>\n",
    "  <tbody>\n",
    "    <tr>\n",
    "      <td>Wikinews</td>\n",
    "      <td>1,000</td>\n",
    "      <td>308,622</td>\n",
    "      <td>247,528</td>\n",
    "      <td>8,928</td>\n",
    "      <td>7,593</td>\n",
    "      <td>6,862</td>\n",
    "      <td>61,094</td>\n",
    "      <td>1,802</td>\n",
    "      <td>1,823</td>\n",
    "      <td>1,711</td>\n",
    "    </tr>\n",
    "    <tr>\n",
    "      <td>Fiction</td>\n",
    "      <td>86</td>\n",
    "      <td>192,448</td>\n",
    "      <td>170,942</td>\n",
    "      <td>3,439</td>\n",
    "      <td>182</td>\n",
    "      <td>733</td>\n",
    "      <td>21,506</td>\n",
    "      <td>636</td>\n",
    "      <td>284</td>\n",
    "      <td>463</td>\n",
    "    </tr>\n",
    "    <tr>\n",
    "      <td>Aldo Moro</td>\n",
    "      <td>250</td>\n",
    "      <td>392,604</td>\n",
    "      <td>309,798</td>\n",
    "      <td>1,459</td>\n",
    "      <td>4,842</td>\n",
    "      <td>2,024</td>\n",
    "      <td>82,806</td>\n",
    "      <td>282</td>\n",
    "      <td>934</td>\n",
    "      <td>807</td>\n",
    "    </tr>\n",
    "    <tr>\n",
    "      <td>Alcide De Gasperi</td>\n",
    "      <td>158</td>\n",
    "      <td>150,632</td>\n",
    "      <td>117,997</td>\n",
    "      <td>1,129</td>\n",
    "      <td>2,396</td>\n",
    "      <td>1,046</td>\n",
    "      <td>32,635</td>\n",
    "      <td>253</td>\n",
    "      <td>533</td>\n",
    "      <td>274</td>\n",
    "    </tr>\n",
    "    <tr>\n",
    "      <td><strong>Total</strong></td>\n",
    "      <td><strong>1494</strong></td>\n",
    "      <td><strong>1,044,306</strong></td>\n",
    "      <td><strong>846,265</strong></td>\n",
    "      <td><strong>14,955</strong></td>\n",
    "      <td><strong>15,013</strong></td>\n",
    "      <td><strong>10,665</strong></td>\n",
    "      <td><strong>198,041</strong></td>\n",
    "      <td><strong>2,973</strong></td>\n",
    "      <td><strong>3,574</strong></td>\n",
    "      <td><strong>3,255</strong></td>\n",
    "    </tr>\n",
    "  </tbody>\n",
    "</table>\n",
    "\n",
    "\n",
    "##Annotation Tagging scheme\n",
    "The tokens of all datasets, except for Aldo Moro, have been manually labeled using the IOB (Inside-Outside-Beginning) convention: each entity is labeled as begin-of-entity (B-[ent]) or continuation-of-entity (I-[ent]). The annotations of the Aldo Moro dataset, instead, were carried out with a mixed process that used both manual and automatic annotations (subsequently checked by hand); due to some differences in the convention for annotation, this dataset does not contain information for composite entities (beginning, continuation). For more details, please refer to the paper related with the dataset release: https://arxiv.org/abs/2112.15099\n",
    "\n",
    "An example of the annotations is reported here: \n"
   ]
  },
  {
   "cell_type": "markdown",
   "metadata": {
    "id": "durfizxkrnhW"
   },
   "source": [
    "# IOB annotation (from ADG_dev.tsv)\n",
    "Nel\tO\n",
    "nostro\tO\n",
    "Trentino\tB-LOC\n",
    "attraversiamo\tO\n",
    "un\tO\n",
    "momento\tO\n",
    "storico\tO\n",
    "importante\tO\n",
    ".\tO\n",
    "\n",
    "# non-IOB annotation (from moro_test.tsv)\n",
    "Dal\tO\n",
    "Consiglio\tORG\n",
    "nazionale\tORG\n",
    "del\tO\n",
    "‘\tO\n",
    "75\tO\n",
    "la\tO\n",
    "grande\tO\n",
    "stampa\tO\n",
    "parla\tO\n",
    "di\tO\n",
    "due\tO\n",
    "anime\tO\n",
    "contrapposte\tO\n",
    "del\tO\n",
    "partito\tO\n",
    ".\tO"
   ]
  },
  {
   "attachments": {},
   "cell_type": "markdown",
   "metadata": {
    "id": "i9ejTFLxdf_z"
   },
   "source": [
    "CODICE PER CHARTS. RIMUOVO LE MBRERIE IN SEGUITO"
   ]
  },
  {
   "cell_type": "code",
   "execution_count": null,
   "metadata": {
    "id": "UUxTIXvXdgoV"
   },
   "outputs": [],
   "source": [
    "import pandas as pd\n",
    "import string\n",
    "import numpy as np\n",
    "import matplotlib.pyplot as plt\n",
    "from math import pi\n",
    "from matplotlib import rc\n",
    "\n",
    "\n",
    "\n",
    "BIO_PATH = '../datasets/BIO_tag_NER_notation/'\n",
    "nonBIO_PATH = '../datasets/Inside_outside_NER_notation/'\n",
    "\n",
    "\n",
    "SPIDER_ROW_N = 2\n",
    "SPIDER_COL_N = 2\n",
    "BAR_ROW_N = 1 \n",
    "BAR_COL_N = 2\n",
    "\n",
    "def to_lowerCase(df):\n",
    "    return pd.DataFrame({'Token': df['Token'].str.lower(), 'Entity': df['Entity']})\n",
    "\n",
    "def add_column_names(df):\n",
    "    return  df.rename(columns={0: 'Token', 1: 'Entity'})\n",
    "\n",
    "def spider_plot(df, group, title, subplot_idx):\n",
    "    plt.rcParams[\"figure.figsize\"] = (10,10)\n",
    "    categories=list(df)[:]\n",
    "    N = len(categories)\n",
    "    \n",
    "    # What will be the angle of each axis in the plot? (we divide the plot / number of variable)\n",
    "    angles = [n / float(N) * 2 * pi for n in range(N)]\n",
    "    angles += angles[:1]\n",
    "    \n",
    "    # Initialise the spider plot\n",
    "    ax = plt.subplot(SPIDER_ROW_N, SPIDER_COL_N, subplot_idx, polar=True)\n",
    "    \n",
    "    # first axis to be on top:\n",
    "    ax.set_theta_offset(pi / 2)\n",
    "    ax.set_theta_direction(-1)\n",
    "    \n",
    "    # Draw one axe per variable + add labels\n",
    "    plt.xticks(angles[:-1], categories)\n",
    "    \n",
    "    # Draw ylabels\n",
    "    #ax.set_yscale('log')\n",
    "    ax.set_rlabel_position(0)\n",
    "    min = df.min().min()\n",
    "    max = df.max().max()\n",
    "    plt.ylim(min -(max-min)/10, max + (max-min)/10)\n",
    " \n",
    "    # Plot each individual = each line of the data\n",
    "    # I don't make a loop, because plotting more than 3 groups makes the chart unreadable\n",
    "    \n",
    "    for i in range(len(group)):\n",
    "        values=df.loc[i].values.flatten().tolist()\n",
    "        values += values[:1]\n",
    "        ax.plot(angles, values, linewidth=1, linestyle='solid', label=group[i])\n",
    "        ax.fill(angles, values, 'b', alpha=0.1)\n",
    "\n",
    "    \n",
    "    # Add legend\n",
    "    plt.legend(loc='upper right', bbox_to_anchor=(0.1, 0.1))\n",
    "    plt.title(title)\n",
    "\n",
    "    # Show the graph\n",
    "    #plt.show()\n",
    "\n",
    "############################################################### reading datasets ###############################################################\n",
    "\n",
    "ds = {'ds_mr'           : pd.read_csv(nonBIO_PATH + 'moro_train.tsv', sep='\\t', header=None),\n",
    "      'ds_mr_test'      : pd.read_csv(nonBIO_PATH + 'moro_test.tsv', sep='\\t', header=None),\n",
    "      \n",
    "      'ds_dg_IOB'       : pd.read_csv(BIO_PATH + 'degasperi_train_BIO.tsv', sep='\\t', header=None),\n",
    "      'ds_fc_IOB'       : pd.read_csv(BIO_PATH + 'fiction_train_BIO.tsv', sep='\\t', header=None),\n",
    "      'ds_wn_IOB'       : pd.read_csv(BIO_PATH + 'wikinews_train_BIO.tsv', sep='\\t', header=None),\n",
    "      'ds_dg_IOB_test'  : pd.read_csv(BIO_PATH + 'degasperi_test_BIO.tsv', sep='\\t', header=None),\n",
    "      'ds_fc_IOB_test'  : pd.read_csv(BIO_PATH + 'fiction_test_BIO.tsv', sep='\\t', header=None),\n",
    "      'ds_wn_IOB_test'  : pd.read_csv(BIO_PATH + 'wikinews_test_BIO.tsv', sep='\\t', header=None)\n",
    "}\n",
    "\n",
    "############################################################### calculating stats ###############################################################\n",
    "stats = {}\n",
    "\n",
    "for i in ds.keys():     \n",
    "    ds[i] = add_column_names(ds[i])\n",
    "    ds[i] = to_lowerCase(ds[i])\n",
    "\n",
    "    stats[i] = {\n",
    "        'doc_len' : ds[i]['Token'].count(),\n",
    "        'voc_size' : ds[i]['Token'].nunique(),\n",
    "        'n_punct': sum(1 for k in ds[i]['Token'] if all(char in string.punctuation for char in k))\n",
    "    }\n",
    "\n",
    "    if('IOB' in str(i)):\n",
    "        \n",
    "        stats[i]['n_I-PER'] = sum(1 for k in ds[i]['Entity'] if k == 'I-PER') \n",
    "        stats[i]['n_I-ORG'] = sum(1 for k in ds[i]['Entity'] if k == 'I-ORG')\n",
    "        stats[i]['n_I-LOC'] = sum(1 for k in ds[i]['Entity'] if k == 'I-LOC')\n",
    "\n",
    "        stats[i]['n_B-PER'] = sum(1 for k in ds[i]['Entity'] if k == 'B-PER') \n",
    "        stats[i]['n_B-ORG'] = sum(1 for k in ds[i]['Entity'] if k == 'B-ORG')\n",
    "        stats[i]['n_B-LOC'] = sum(1 for k in ds[i]['Entity'] if k == 'B-LOC')\n",
    "\n",
    "        stats[i]['n_PER'] = stats[i]['n_I-PER'] + stats[i]['n_B-PER']\n",
    "        stats[i]['n_ORG'] = stats[i]['n_I-ORG'] + stats[i]['n_B-ORG']\n",
    "        stats[i]['n_LOC'] = stats[i]['n_I-LOC'] + stats[i]['n_B-LOC']\n",
    "        \n",
    "    else:\n",
    "        stats[i]['n_PER'] = sum(1 for k in ds[i]['Entity'] if k == 'PER') \n",
    "        stats[i]['n_ORG'] = sum(1 for k in ds[i]['Entity'] if k == 'ORG')\n",
    "        stats[i]['n_LOC'] = sum(1 for k in ds[i]['Entity'] if k == 'LOC')\n",
    "\n",
    "    stats[i]['n_O'] = sum(1 for k in ds[i]['Entity'] if k == 'O')\n",
    "        \n",
    "\n",
    "avg_doc_len = sum(stats[i]['doc_len'] for i in stats.keys()) / len(stats.keys())\n",
    "avg_voc_size = sum(stats[i]['voc_size'] for i in stats.keys()) / len(stats.keys())\n",
    "\n",
    "############################################################### preparing data for plotting ###############################################################\n",
    " \n",
    "# Values of each group\n",
    "iper = [stats[i]['n_I-PER'] for i in stats.keys() if 'IOB' in str(i) and 'test' not in str(i)]\n",
    "iorg = [stats[i]['n_I-ORG'] for i in stats.keys() if 'IOB' in str(i) and 'test' not in str(i)]\n",
    "iloc = [stats[i]['n_I-LOC'] for i in stats.keys() if 'IOB' in str(i) and 'test' not in str(i)]\n",
    "\n",
    "bper = [stats[i]['n_B-PER'] for i in stats.keys() if 'IOB' in str(i) and 'test' not in str(i)]\n",
    "borg = [stats[i]['n_B-ORG'] for i in stats.keys() if 'IOB' in str(i) and 'test' not in str(i)]\n",
    "bloc = [stats[i]['n_B-LOC'] for i in stats.keys() if 'IOB' in str(i) and 'test' not in str(i)]\n",
    "\n",
    "iob_punct = [stats[i]['n_punct'] for i in stats.keys() if 'IOB' in str(i) and 'test' not in str(i)]\n",
    "iob_o = [stats[i]['n_O'] for i in stats.keys() if 'IOB' in str(i) and 'test' not in str(i)]\n",
    "iob_o = [iob_o[i] - iob_punct[i] for i in range(len(iob_o))]\n",
    "\n",
    "iper_test = [stats[i]['n_I-PER'] for i in stats.keys() if 'IOB' in str(i) and 'test' in str(i)]\n",
    "iorg_test = [stats[i]['n_I-ORG'] for i in stats.keys() if 'IOB' in str(i) and 'test' in str(i)]\n",
    "iloc_test = [stats[i]['n_I-LOC'] for i in stats.keys() if 'IOB' in str(i) and 'test' in str(i)]\n",
    "\n",
    "bper_test = [stats[i]['n_B-PER'] for i in stats.keys() if 'IOB' in str(i) and 'test' in str(i)]\n",
    "borg_test = [stats[i]['n_B-ORG'] for i in stats.keys() if 'IOB' in str(i) and 'test' in str(i)]\n",
    "bloc_test = [stats[i]['n_B-LOC'] for i in stats.keys() if 'IOB' in str(i) and 'test' in str(i)]\n",
    "\n",
    "iob_punct_test = [stats[i]['n_punct'] for i in stats.keys() if 'IOB' in str(i) and 'test' in str(i)]\n",
    "iob_o_test = [stats[i]['n_O'] for i in stats.keys() if 'IOB' in str(i) and 'test' in str(i)]\n",
    "iob_o_test = [iob_o_test[i] - iob_punct_test[i] for i in range(len(iob_o_test))]\n",
    "\n",
    "iob_voc_size = [stats[i]['voc_size'] for i in stats.keys() if 'IOB' in str(i)]\n",
    "\n",
    "per = [stats[i]['n_PER'] for i in stats.keys() if 'test' not in str(i)]\n",
    "org = [stats[i]['n_ORG'] for i in stats.keys() if 'test' not in str(i)]\n",
    "loc = [stats[i]['n_LOC'] for i in stats.keys() if 'test' not in str(i)]\n",
    "\n",
    "per_test = [stats[i]['n_PER'] for i in stats.keys() if 'test' in str(i)]\n",
    "org_test = [stats[i]['n_ORG'] for i in stats.keys() if 'test' in str(i)]\n",
    "loc_test = [stats[i]['n_LOC'] for i in stats.keys() if 'test' in str(i)]\n",
    "\n",
    "voc_size = [stats[i]['voc_size'] for i in stats.keys() if 'test' not in str(i)]\n",
    "voc_size_test = [stats[i]['voc_size'] for i in stats.keys() if 'test' in str(i)]\n",
    "\n",
    "doc_len = [stats[i]['doc_len'] for i in stats.keys() if 'test' not in str(i)]\n",
    "doc_len_test = [stats[i]['doc_len'] for i in stats.keys() if 'test' in str(i)]\n",
    "\n",
    "n_punct = [stats[i]['n_punct'] for i in stats.keys() if 'test' not in str(i)]\n",
    "n_punct_test = [stats[i]['n_punct'] for i in stats.keys() if 'test' in str(i)]\n",
    "\n",
    "o = [stats[i]['n_O'] for i in stats.keys() if 'test' not in str(i)]\n",
    "punct = [stats[i]['n_punct'] for i in stats.keys() if 'test' not in str(i)]\n",
    "\n",
    "\n",
    "o_test = [stats[i]['n_O'] for i in stats.keys() if 'test' in str(i)]\n",
    "punct_test = [stats[i]['n_punct'] for i in stats.keys() if 'test' in str(i)]\n",
    "\n",
    "############################################################### spider plots ###############################################################\n",
    "\n",
    "spider_plot( pd.DataFrame({\n",
    "    'B-PER': bper,\n",
    "    'I-PER': iper,\n",
    "    'B-ORG': borg,\n",
    "    'I-ORG': iorg,\n",
    "    'B-LOC': bloc,\n",
    "    'I-LOC': iloc }),\n",
    "    ['deGasperi', 'Fiction', 'Wikinews'],\n",
    "    'Train set IOB tags',\n",
    "    1)\n",
    "\n",
    "spider_plot( pd.DataFrame({\n",
    "    'B-PER': bper_test,\n",
    "    'I-PER': iper_test,\n",
    "    'B-ORG': borg_test,\n",
    "    'I-ORG': iorg_test,\n",
    "    'B-LOC': bloc_test,\n",
    "    'I-LOC': iloc_test }),\n",
    "    ['deGasperi', 'Fiction', 'Wikinews'],\n",
    "    'Test set IOB tags',\n",
    "    2)\n",
    "\n",
    "spider_plot( pd.DataFrame({\n",
    "    'B-PER': per,\n",
    "    'B-ORG': org,\n",
    "    'B-LOC': loc}),\n",
    "    ['Moro', 'deGasperi', 'Fiction', 'Wikinews'],\n",
    "    'Train set non-IOB tags',\n",
    "    3)\n",
    "\n",
    "spider_plot( pd.DataFrame({\n",
    "    'B-PER': per_test,\n",
    "    'B-ORG': org_test,\n",
    "    'B-LOC': loc_test}),\n",
    "    ['Moro', 'deGasperi', 'Fiction', 'Wikinews'],\n",
    "    'Test set non-IOB tags',\n",
    "    4)\n",
    "\n",
    "#spider_plot( pd.DataFrame({\n",
    "#    'doc_len': doc_len,\n",
    "#    'voc_size': voc_size,\n",
    "#    'n_punct': n_punct,}),\n",
    "#    ['Moro', 'deGasperi', 'Fiction', 'Wikinews'],\n",
    "#    'Train set document statistics',\n",
    "#    5)\n",
    "#\n",
    "#spider_plot( pd.DataFrame({\n",
    "#    'doc_len': doc_len_test,\n",
    "#    'voc_size': voc_size_test,\n",
    "#    'n_punct': n_punct_test,}),\n",
    "#    ['Moro', 'deGasperi', 'Fiction', 'Wikinews'],\n",
    "#    'Test set document statistics',\n",
    "#    6)\n",
    "\n",
    "plt.show()\n",
    "\n",
    "\n",
    "def stacked_bar_plot(col_names, data, labels_name, title, subplot_idx):\n",
    "    plt.rcParams[\"figure.figsize\"] = (15,10)\n",
    "    # Names of group and bar width\n",
    "    barWidth = 1\n",
    "    bars = np.zeros(len(col_names))\n",
    "    n_col = np.arange(len(col_names))\n",
    "    plt.subplot(BAR_ROW_N, BAR_COL_N, subplot_idx)\n",
    "\n",
    "\n",
    "    for i in range(len(data)):\n",
    "        plt.bar(n_col, data[i], bottom=bars, edgecolor='white', width=barWidth, label=labels_name[i])\n",
    "        bars = np.add(bars, data[i]).tolist()\n",
    "\n",
    "    bars = np.add(bper, iper).tolist()\n",
    "    \n",
    "    # Custom X axis\n",
    "    plt.xticks(n_col, col_names, fontweight='bold')\n",
    "    plt.legend()\n",
    "    plt.title(title)\n",
    "\n",
    "    \n",
    "    # Show graphic\n",
    "stacked_bar_plot(['Moro', 'deGasperi', 'Fiction', 'Wikinews'],\n",
    "                 [punct, [o[i]-punct[i] for i in range(len(o))]],\n",
    "                 ['punct', 'O'],\n",
    "                 'Train sets',\n",
    "                 1)\n",
    "\n",
    "stacked_bar_plot(['Moro', 'deGasperi', 'Fiction', 'Wikinews'],\n",
    "                 [punct_test, [o_test[i]-punct_test[i] for i in range(len(o_test))]],\n",
    "                 ['punct', 'O'],\n",
    "                 'Test sets',\n",
    "                 2)\n",
    "\n",
    "plt.show()"
   ]
  },
  {
   "cell_type": "code",
   "execution_count": null,
   "metadata": {},
   "outputs": [],
   "source": [
    "import pandas as pd\n",
    "import os\n",
    "\n",
    "#BIO_PATH = 'BIO_tag_NER_notation'\n",
    "#nonBIO_PATH = 'Inside_outside_NER_notation'\n",
    "\n",
    "#function to check if 2 tsv files are equal\n",
    "def check_equal(file1, file2):\n",
    "\tdf1 = pd.read_csv(file1, sep='\\t')\n",
    "\tdf2 = pd.read_csv(file2, sep='\\t')\n",
    "\t#printf the path of the two filr, length of the 2 files, and if they are equal\n",
    "\tprint(file1, \"\\n\", \n",
    "       \t  file2, \"\\n\",\n",
    "\t\t    \"equal: \", df1.equals(df2), \"\\n\\n\")\n",
    "\n",
    "\n",
    "#########################à BIO TAGGER ########################################\n",
    "\n",
    "oTag = \"O\"  \n",
    "types = set()\n",
    "\n",
    "files = {\n",
    "\t\"wikinews_train.tsv\"\t: BIO_PATH + \"automatic/WN_train.tsv\",\n",
    "\t\"wikinews_test.tsv\"\t\t: BIO_PATH + \"automatic/WN_dev.tsv\",\n",
    "\t\"fiction_train.tsv\"\t\t: BIO_PATH + \"automatic/FIC_train.tsv\",\n",
    "\t\"fiction_test.tsv\"\t\t: BIO_PATH + \"automatic/FIC_dev.tsv\",\n",
    "\t\"degasperi_train.tsv\"\t: BIO_PATH + \"automatic/ADG_train.tsv\",\n",
    "\t\"degasperi_test.tsv\"\t: BIO_PATH + \"automatic/ADG_dev.tsv\",\n",
    "\t\"moro_train.tsv\"\t\t: BIO_PATH + \"automatic/MR_train.tsv\",\n",
    "\t\"moro_test.tsv\"\t\t\t: BIO_PATH + \"automatic/MR_dev.tsv\",\n",
    "}\n",
    "\n",
    "count = {}\n",
    "\n",
    "for file in files:\n",
    "\twith open(os.path.join(nonBIO_PATH, file), \"r\") as f:\n",
    "\t\toutFile = files[file]\n",
    "\t\tcount[outFile] = {\"sentences\": 0, \"tags\": {}, \"tokens\": 0}\n",
    "\n",
    "\t\tsentences = []\n",
    "\t\tthisSentence = []\n",
    "\n",
    "\t\tfor line in f:\n",
    "\t\t\tline = line.strip()\n",
    "\t\t\tif len(line) == 0:\n",
    "\t\t\t\tif len(thisSentence) > 0:\n",
    "\t\t\t\t\tsentences.append(thisSentence)\n",
    "\t\t\t\t\tthisSentence = []\n",
    "\t\t\t\tcontinue\n",
    "\t\t\tparts = line.split(\"\\t\")\n",
    "\t\t\tthisSentence.append(parts)\n",
    "\t\t\tcount[outFile][\"tokens\"] += 1\n",
    "\n",
    "\t\tif len(thisSentence) > 0:\n",
    "\t\t\tsentences.append(thisSentence)\n",
    "\n",
    "\t\tcount[outFile][\"sentences\"] = len(sentences)\n",
    "\n",
    "\t\tfor sentence in sentences:\n",
    "\t\t\tpreviousNer = oTag\n",
    "\t\t\tfor token in sentence:\n",
    "\t\t\t\tner = token[1]\n",
    "\t\t\t\tnewNer = ner\n",
    "\t\t\t\tif ner != oTag:\n",
    "\t\t\t\t\tif previousNer != ner:\n",
    "\t\t\t\t\t\tif ner not in count[outFile][\"tags\"]:\n",
    "\t\t\t\t\t\t\tcount[outFile][\"tags\"][ner] = 0\n",
    "\t\t\t\t\t\tnewNer = \"B-\" + ner\n",
    "\t\t\t\t\t\tcount[outFile][\"tags\"][ner] += 1\n",
    "\t\t\t\t\t\ttypes.add(ner)\n",
    "\t\t\t\t\telse:\n",
    "\t\t\t\t\t\tnewNer = \"I-\" + ner\n",
    "\t\t\t\ttoken[1] = newNer\n",
    "\t\t\t\tpreviousNer = ner\n",
    "\n",
    "\t\twith open(outFile, \"w\") as fw:\n",
    "\t\t\tfor sentence in sentences:\n",
    "\t\t\t\tfor token in sentence:\n",
    "\t\t\t\t\tfw.write(token[0])\n",
    "\t\t\t\t\tfw.write(\"\\t\")\n",
    "\t\t\t\t\tfw.write(token[1])\n",
    "\t\t\t\t\tfw.write(\"\\n\")\n",
    "\t\t\t\tfw.write(\"\\n\")\n",
    "\n",
    "#########################à CHECK ########################################\n",
    "comp = [\n",
    "\t[BIO_PATH + \"automatic/WN_train.tsv\", \t'./' + BIO_PATH + '/wikinews_train_BIO.tsv'],\n",
    "\t[BIO_PATH + \"automatic/WN_dev.tsv\", \t'./' + BIO_PATH + '/wikinews_test_BIO.tsv'],\n",
    "\t[BIO_PATH + \"automatic/FIC_train.tsv\", \t'./' + BIO_PATH + '/fiction_train_BIO.tsv'],\n",
    "\t[BIO_PATH + \"automatic/FIC_dev.tsv\", \t'./' + BIO_PATH + '/fiction_test_BIO.tsv'],\n",
    "\t[BIO_PATH + \"automatic/ADG_train.tsv\", \t'./' + BIO_PATH + '/degasperi_train_BIO.tsv'],\n",
    "\t[BIO_PATH + \"automatic/ADG_dev.tsv\", \t'./' + BIO_PATH + '/degasperi_test_BIO.tsv'],\n",
    "\t[BIO_PATH + \"automatic/MR_train.tsv\", \t'./' + BIO_PATH + '/moro_train_BIO.tsv'],\n",
    "\t[BIO_PATH + \"automatic/MR_dev.tsv\", \t'./' + BIO_PATH + '/moro_test_BIO.tsv'],\n",
    "]\n",
    "\n",
    "for i in comp:\n",
    "\tcheck_equal(i[0], i[1])\n"
   ]
  },
  {
   "attachments": {},
   "cell_type": "markdown",
   "metadata": {},
   "source": [
    "# Extra"
   ]
  },
  {
   "cell_type": "code",
   "execution_count": null,
   "metadata": {
    "id": "Fl5msGpYtt5K"
   },
   "outputs": [],
   "source": [
    "# Elia valuta se può essere utile, altrimenti eliminiamo\n",
    "def compute_statistics(dataset_name, dataset, statistics_df):\n",
    "  '''\n",
    "  Computes the statistics of the dataset and adds it into an aggregated structure\n",
    "\n",
    "  Parameters\n",
    "  ----------\n",
    "  dataset_name: str\n",
    "  dataset: DataFrame\n",
    "  statistics_df: DataFrame\n",
    "\n",
    "  Returns\n",
    "  -------\n",
    "  statistics_df: DataFrame\n",
    "  '''\n",
    "  if statistics_df is None:\n",
    "    columns = ['Dataset', 'Number of tokens', 'Number of unique tokens', 'Entity tag types']\n",
    "    statistics_df = pd.DataFrame([[dataset_name, len(dataset), len(dataset['Token'].unique()), sorted(dataset['Tag'].unique())]], columns=columns)\n",
    "  else:\n",
    "    columns = ['Dataset', 'Number of tokens', 'Number of unique tokens', 'Entity tag types']\n",
    "    statistics_df = pd.concat([statistics_df, pd.DataFrame([[dataset_name, len(dataset), len(dataset['Token'].unique()), sorted(dataset['Tag'].unique())]], columns=columns)])\n",
    "  return statistics_df\n",
    "\n",
    "\n",
    "\n",
    "  # Rimuovi l'hardcoding dei nomi delle colonne"
   ]
  },
  {
   "cell_type": "code",
   "execution_count": null,
   "metadata": {
    "id": "Yo7B5swCz1V2"
   },
   "outputs": [],
   "source": [
    "# Elia valuta se può essere utile, altrimenti eliminiamo\n",
    "datasets_df = []\n",
    "dataset_stats_df = None\n",
    "\n",
    "for dataset_name in dataset_names:\n",
    "  dataset_df = pd.read_csv(dataset_name, sep='\\t', names=['Token', 'Tag'])\n",
    "  datasets_df.append(dataset_df)\n",
    "  dataset_stats_df = compute_statistics(dataset_name, dataset_df, dataset_stats_df)\n",
    "\n",
    "dataset_stats_df.style.hide(axis='index')"
   ]
  },
  {
   "cell_type": "code",
   "execution_count": null,
   "metadata": {},
   "outputs": [],
   "source": [
    "!pwd"
   ]
  }
 ],
 "metadata": {
  "colab": {
   "include_colab_link": true,
   "provenance": []
  },
  "kernelspec": {
   "display_name": "Python 3",
   "name": "python3"
  },
  "language_info": {
   "codemirror_mode": {
    "name": "ipython",
    "version": 3
   },
   "file_extension": ".py",
   "mimetype": "text/x-python",
   "name": "python",
   "nbconvert_exporter": "python",
   "pygments_lexer": "ipython3",
   "version": "3.10.6"
  }
 },
 "nbformat": 4,
 "nbformat_minor": 0
}
