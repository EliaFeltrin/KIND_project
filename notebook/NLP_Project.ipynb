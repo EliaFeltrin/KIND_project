{
  "cells": [
    {
      "attachments": {},
      "cell_type": "markdown",
      "metadata": {
        "colab_type": "text",
        "id": "view-in-github"
      },
      "source": [
        "<a href=\"https://colab.research.google.com/github/EliaFeltrin/KIND_project/blob/main/NLP_Project.ipynb\" target=\"_parent\"><img src=\"https://colab.research.google.com/assets/colab-badge.svg\" alt=\"Open In Colab\"/></a>"
      ]
    },
    {
      "attachments": {},
      "cell_type": "markdown",
      "metadata": {
        "id": "iKwSQ3yjxA6I"
      },
      "source": [
        "# Name Entity Recognition"
      ]
    },
    {
      "cell_type": "code",
      "execution_count": null,
      "metadata": {
        "id": "oMU9U9-GzVvR"
      },
      "outputs": [],
      "source": [
        "def get_string_from_df(dataframe, puntuaction):\n",
        "  '''\n",
        "  Transforms the tokenized dataset into a single string.\n",
        "  \n",
        "  Parameters\n",
        "  ----------\n",
        "  dataframe: DataFrame\n",
        "    structure containing the tokenized dataset\n",
        "\n",
        "  Returns\n",
        "  -------\n",
        "  text: str\n",
        "    string concatenating all the tokens of the dataset\n",
        "  '''\n",
        "  text_df = dataframe.loc[:,'Token']\n",
        "  text = text_df[0]\n",
        "  for token in text_df[1:]:\n",
        "    text += (' ' + token) if token not in puntuaction else token\n",
        "  return text"
      ]
    },
    {
      "attachments": {},
      "cell_type": "markdown",
      "metadata": {
        "id": "_uSdgHpkxIGR"
      },
      "source": [
        "## Introduction"
      ]
    },
    {
      "cell_type": "code",
      "execution_count": null,
      "metadata": {
        "id": "I7o1jqSjx0mN"
      },
      "outputs": [],
      "source": [
        "# Cloning the github repository (TO BE DELETED?)\n",
        "#! git clone https://github.com/EliaFeltrin/KIND_project.git"
      ]
    },
    {
      "attachments": {},
      "cell_type": "markdown",
      "metadata": {},
      "source": [
        "### Package Installation"
      ]
    },
    {
      "cell_type": "code",
      "execution_count": null,
      "metadata": {
        "id": "nLQhCXCbxy-f"
      },
      "outputs": [],
      "source": [
        "# Installing the library needed in the following part of the project\n",
        "\n",
        "# Installing the utlity packages\n",
        "#! pip install scipy\n",
        "#! pip install numpy\n",
        "#! pip install pandas\n",
        "! pip install ipykernel\n",
        "\n",
        "# Installing the packages for creating amazing plots\n",
        "#! pip install matplotlib\n",
        "#! pip install wordcloud\n",
        "! pip install plotly\n",
        "! pip install --upgrade nbformat\n",
        "\n",
        "# Installing a package for sequence labeling, used for POS tagging and NER\n",
        "! pip install -U spacy\n",
        "\n",
        "# Installing the packages for creating the word embeddings\n",
        "! pip install --upgrade gensim\n",
        "\n",
        "# Installing the packages for doing dimensionality reduction\n",
        "#! pip install sklearn"
      ]
    },
    {
      "cell_type": "code",
      "execution_count": null,
      "metadata": {},
      "outputs": [],
      "source": [
        "# Dowloading an italian model from spacy\n",
        "! spacy download it_core_news_sm"
      ]
    },
    {
      "attachments": {},
      "cell_type": "markdown",
      "metadata": {},
      "source": [
        "### Package import"
      ]
    },
    {
      "cell_type": "code",
      "execution_count": 2,
      "metadata": {
        "id": "iXMMltVMVFQO"
      },
      "outputs": [],
      "source": [
        "# Importing the main packages\n",
        "\n",
        "# Importing the utlity packages\n",
        "import string\n",
        "import numpy as np\n",
        "import random\n",
        "import pandas as pd\n",
        "from collections import Counter\n",
        "\n",
        "# Importing the packages for creating amazing plots\n",
        "import matplotlib.pyplot as plt\n",
        "from wordcloud import WordCloud\n",
        "import plotly.express as px\n",
        "\n",
        "# Importing the packages for POS tagging\n",
        "import spacy as spc\n",
        "\n",
        "# Importing the packages for creating the word embeddings\n",
        "from gensim.models.word2vec import Word2Vec\n",
        "\n",
        "# Importing the packages for doing dimensionality reduction\n",
        "from sklearn.manifold import TSNE\n"
      ]
    },
    {
      "cell_type": "code",
      "execution_count": 22,
      "metadata": {},
      "outputs": [],
      "source": [
        "# Defining the names of the datasets\n",
        "dataset_names = ['degasperi_train.tsv', 'degasperi_test.tsv', 'fiction_train.tsv',\\\n",
        "            'fiction_test.tsv', 'moro_train.tsv', 'moro_test.tsv',\\\n",
        "            'wikinews_train.tsv', 'wikinews_test.tsv']\n",
        "# Defining the path to datasets\n",
        "PATH_TO_DATASETS = '../datasets/Inside_outside_NER_notation'\n",
        "# Enrico's path, scusate ragazzi, sistemerò TO DOOOOOOOOOOOOOOOOO\n",
        "PATH_TO_DATASETS = '/Users/enricosimionato/Desktop/KIND_project/datasets/Inside_outside_NER_notation'\n",
        "# Importing all the datasets in a dictionary\n",
        "datasets_dict = {name: pd.read_csv(PATH_TO_DATASETS+'/'+name, sep='\\t', header=None).rename(columns={0: 'Token', 1: 'Entity'}) for name in dataset_names}"
      ]
    },
    {
      "cell_type": "code",
      "execution_count": 3,
      "metadata": {
        "id": "ZGkcqAEwVDL9"
      },
      "outputs": [],
      "source": [
        "# Defining the path to datasets\n",
        "PATH_TO_DATASETS = '../datasets/Inside_outside_NER_notation'\n",
        "# Enrico's path, scusate ragazzi, sistemerò TO DOOOOOOOOOOOOOOOOO\n",
        "#PATH_TO_DATASETS = '/Users/enricosimionato/Desktop/KIND_project/datasets/Inside_outside_NER_notation'\n",
        "\n",
        "# Loading the datasets\n",
        "dataset_degasperi = pd.read_csv(PATH_TO_DATASETS+'/degasperi_train.tsv', sep='\\t', header=None)\n",
        "dataset_degasperi = dataset_degasperi.rename(columns={0: 'Token', 1: 'Entity'})\n",
        "\n",
        "dataset_moro = pd.read_csv(PATH_TO_DATASETS+'/moro_train.tsv', sep='\\t', header=None)\n",
        "dataset_moro = dataset_moro.rename(columns={0: 'Token', 1: 'Entity'})\n",
        "\n",
        "dataset_fiction = pd.read_csv(PATH_TO_DATASETS+'/fiction_train.tsv', sep='\\t', header=None)\n",
        "dataset_fiction = dataset_fiction.rename(columns={0: 'Token', 1: 'Entity'})\n",
        "\n",
        "dataset_wikinews = pd.read_csv(PATH_TO_DATASETS+'/wikinews_train.tsv', sep='\\t', header=None)\n",
        "dataset_wikinews = dataset_wikinews.rename(columns={0: 'Token', 1: 'Entity'})"
      ]
    },
    {
      "cell_type": "code",
      "execution_count": null,
      "metadata": {},
      "outputs": [],
      "source": [
        "a=len(dataset_degasperi.where(dataset_degasperi['Token'].str.contains('\\n')))\n",
        "\n",
        "b=len(dataset_degasperi)\n",
        "print(str(a))\n",
        "print(str(b))\n",
        "\n",
        "get_string_from_df()\n",
        "dataset_degasperi['Token'][0]"
      ]
    },
    {
      "attachments": {},
      "cell_type": "markdown",
      "metadata": {
        "id": "6PMsuTVlfsNw"
      },
      "source": [
        "## Word embeddings representation\n",
        "\n",
        "A word embedding is the vectorial representation of a word. It is used for achieving a dense representation of the words in an high dimensional space. Other types of representation of the words, such as the bag of words representation, are sparse compared to word embeddings.\n",
        "The word embeddings allow to achieve better results in many fields of natural language processing.\n",
        "\n",
        "In particular we use Word2Vec in order to obtain the word embeddings of out dataset.\n",
        "Basic Word2Vec is a artificial neural network composed by two layers\n",
        "\n",
        "The inputs of the neural network are the words of the sentence to convert in the word embeddings representation.\n",
        "The first layer is a linear layer.\n",
        "The linear activation functions values are summed and put as outputs.\n",
        "At the end we appply a softmax layer.\n",
        "We want the model to prefict the next word in the sentence.\n",
        "I train the NN using the cross entropy as loss function.\n",
        "At the end of the training the weights connecting the inputs to the first hidden layer are the values of the dimensions of the word embedding.\n",
        "\n",
        "\n",
        "Two of the most used architecture of the Word2Vec are CBOW and Skip-Gram.\n",
        "\n",
        "The Continuous Bag of Words method uses many words surrounding the word I want to use in the prediction in the training step.\n",
        "The Skip-gram uses a word to predict the word in the surroundings.\n",
        "\n",
        "In some way the distribution in the various dimension is based on the similarity of the words in terms of semantics and usage.\n",
        "\n",
        "With word embeddings we can embed the context of the word inside its representation.\n"
      ]
    },
    {
      "attachments": {},
      "cell_type": "markdown",
      "metadata": {},
      "source": [
        "We start from the dataframe containing the tokens of the dataset.\n",
        "The pipeline used for the definition of the input of the word2vec model is the following:\n",
        "- (previous) the tokenization has already been done\n",
        "- merging the single elements in sentences splitting on the single dots\n",
        "- lowercasing all the tokens"
      ]
    },
    {
      "cell_type": "code",
      "execution_count": 25,
      "metadata": {},
      "outputs": [],
      "source": [
        "def get_sentences_list_from_df(dataset_df):\n",
        "    '''\n",
        "    Parameters\n",
        "    ----------\n",
        "    dataset_df: DataFrame\n",
        "\n",
        "    Returns\n",
        "    -------\n",
        "    sentences_list: list\n",
        "\n",
        "    '''\n",
        "    punctuation = string.punctuation\n",
        "    sentences_list = [[]]\n",
        "    labels_list = [[]]\n",
        "    count = 0\n",
        "    \n",
        "    for element in dataset_df.iterrows():\n",
        "        if str(element[1]['Token']) == '.':\n",
        "            sentences_list.append([])\n",
        "            labels_list.append([])\n",
        "            count += 1\n",
        "        elif str(element[1]['Token']) not in punctuation:\n",
        "            sentences_list[count].append(element[1]['Token'].lower())\n",
        "            labels_list[count].append(element[1]['Entity'])\n",
        "            \n",
        "    return sentences_list\n",
        "\n",
        "def remove_short_sentences(sentences_list, min_length=3):\n",
        "    '''\n",
        "    Parameters\n",
        "    ----------\n",
        "    sentences_list: list\n",
        "\n",
        "    min_lenght: int\n",
        "\n",
        "    Returns\n",
        "    -------\n",
        "    sentences_list: list\n",
        "    \n",
        "    '''\n",
        "    for sentence in sentences_list:\n",
        "        if len(sentence) < min_length:\n",
        "            sentences_list.remove(sentence)\n",
        "    return sentences_list\n",
        "\n",
        "def get_all_sentences_from_datasets(datasets):\n",
        "    '''\n",
        "    Parameters\n",
        "    ----------\n",
        "    datasets: list\n",
        "\n",
        "    Returns\n",
        "    -------\n",
        "    overall_sentences: list\n",
        "    \n",
        "    '''\n",
        "    overall_sentences = list()\n",
        "    for key in datasets.keys():\n",
        "        sentences = get_sentences_list_from_df(datasets[key])\n",
        "        overall_sentences += remove_short_sentences(sentences)\n",
        "    return overall_sentences"
      ]
    },
    {
      "cell_type": "code",
      "execution_count": 26,
      "metadata": {},
      "outputs": [],
      "source": [
        "sentences = get_all_sentences_from_datasets(datasets_dict)"
      ]
    },
    {
      "cell_type": "code",
      "execution_count": 14,
      "metadata": {},
      "outputs": [
        {
          "name": "stdout",
          "output_type": "stream",
          "text": [
            "                0  1\n",
            "0              Il  O\n",
            "1        ministro  O\n",
            "2           degli  O\n",
            "3          Esteri  O\n",
            "4              al  O\n",
            "...           ... ..\n",
            "123499      dalla  O\n",
            "123500  Direzione  O\n",
            "123501         in  O\n",
            "123502    materia  O\n",
            "123503          .  O\n",
            "\n",
            "[123504 rows x 2 columns]\n",
            "                0  1\n",
            "0              Il  O\n",
            "1           Paese  O\n",
            "2               e  O\n",
            "3               i  O\n",
            "4       contadini  O\n",
            "...           ... ..\n",
            "27115          al  O\n",
            "27116       primo  O\n",
            "27117      gruppo  O\n",
            "27118          di  O\n",
            "27119  seminaries  O\n",
            "\n",
            "[27120 rows x 2 columns]\n",
            "                0    1\n",
            "0          Ustica  LOC\n",
            "1               ,    O\n",
            "2              19    O\n",
            "3             XII    O\n",
            "4            1926    O\n",
            "...           ...  ...\n",
            "170935      sonno    O\n",
            "170936          .    O\n",
            "170937  Ritenterò    O\n",
            "170938     domani    O\n",
            "170939          .    O\n",
            "\n",
            "[170940 rows x 2 columns]\n",
            "                0  1\n",
            "0              L'  O\n",
            "1      agitazione  O\n",
            "2             dei  O\n",
            "3             più  O\n",
            "4         ardenti  O\n",
            "...           ... ..\n",
            "21501       occhi  O\n",
            "21502     addosso  O\n",
            "21503         dal  O\n",
            "21504     canneto  O\n",
            "21505           .  O\n",
            "\n",
            "[21506 rows x 2 columns]\n",
            "                  0    1\n",
            "0                 [    O\n",
            "1        Intervista    O\n",
            "2               per    O\n",
            "3                La  PER\n",
            "4             Rocca  PER\n",
            "...             ...  ...\n",
            "309791   esperienza    O\n",
            "309792           di    O\n",
            "309793         vita    O\n",
            "309794  democratica    O\n",
            "309795            .    O\n",
            "\n",
            "[309796 rows x 2 columns]\n",
            "                0    1\n",
            "0             Dal    O\n",
            "1       Consiglio  ORG\n",
            "2       nazionale  ORG\n",
            "3             del    O\n",
            "4               ‘    O\n",
            "...           ...  ...\n",
            "82801          la    O\n",
            "82802  democrazia    O\n",
            "82803    italiana    O\n",
            "82804           »    O\n",
            "82805           .    O\n",
            "\n",
            "[82806 rows x 2 columns]\n",
            "                0    1\n",
            "0              In    O\n",
            "1          fiamme    O\n",
            "2              l'    O\n",
            "3        Istituto  LOC\n",
            "4            Lama  LOC\n",
            "...           ...  ...\n",
            "154188   scultore    O\n",
            "154189      belga    O\n",
            "154190  Dominique  PER\n",
            "154191  Stroobant  PER\n",
            "154192          .    O\n",
            "\n",
            "[154193 rows x 2 columns]\n",
            "                 0    1\n",
            "0      Ricercatori    O\n",
            "1       britannici    O\n",
            "2         scoprono    O\n",
            "3               il    O\n",
            "4            primo    O\n",
            "...            ...  ...\n",
            "58200          che    O\n",
            "58201      Tripoli  LOC\n",
            "58202      brucerà    O\n",
            "58203            »    O\n",
            "58204            .    O\n",
            "\n",
            "[58205 rows x 2 columns]\n"
          ]
        }
      ],
      "source": [
        "for key in datasets_dict.keys():\n",
        "    print(datasets_dict[key])"
      ]
    },
    {
      "cell_type": "code",
      "execution_count": 20,
      "metadata": {},
      "outputs": [
        {
          "name": "stdout",
          "output_type": "stream",
          "text": [
            "degasperi_train.tsv\n",
            "degasperi_test.tsv\n",
            "fiction_train.tsv\n",
            "fiction_test.tsv\n",
            "moro_train.tsv\n",
            "moro_test.tsv\n",
            "wikinews_train.tsv\n",
            "wikinews_test.tsv\n"
          ]
        }
      ],
      "source": [
        "for i in datasets_dict.keys():\n",
        "    print(i)"
      ]
    },
    {
      "cell_type": "code",
      "execution_count": 21,
      "metadata": {},
      "outputs": [
        {
          "data": {
            "text/html": [
              "<div>\n",
              "<style scoped>\n",
              "    .dataframe tbody tr th:only-of-type {\n",
              "        vertical-align: middle;\n",
              "    }\n",
              "\n",
              "    .dataframe tbody tr th {\n",
              "        vertical-align: top;\n",
              "    }\n",
              "\n",
              "    .dataframe thead th {\n",
              "        text-align: right;\n",
              "    }\n",
              "</style>\n",
              "<table border=\"1\" class=\"dataframe\">\n",
              "  <thead>\n",
              "    <tr style=\"text-align: right;\">\n",
              "      <th></th>\n",
              "      <th>0</th>\n",
              "      <th>1</th>\n",
              "    </tr>\n",
              "  </thead>\n",
              "  <tbody>\n",
              "    <tr>\n",
              "      <th>0</th>\n",
              "      <td>Il</td>\n",
              "      <td>O</td>\n",
              "    </tr>\n",
              "    <tr>\n",
              "      <th>1</th>\n",
              "      <td>ministro</td>\n",
              "      <td>O</td>\n",
              "    </tr>\n",
              "    <tr>\n",
              "      <th>2</th>\n",
              "      <td>degli</td>\n",
              "      <td>O</td>\n",
              "    </tr>\n",
              "    <tr>\n",
              "      <th>3</th>\n",
              "      <td>Esteri</td>\n",
              "      <td>O</td>\n",
              "    </tr>\n",
              "    <tr>\n",
              "      <th>4</th>\n",
              "      <td>al</td>\n",
              "      <td>O</td>\n",
              "    </tr>\n",
              "    <tr>\n",
              "      <th>...</th>\n",
              "      <td>...</td>\n",
              "      <td>...</td>\n",
              "    </tr>\n",
              "    <tr>\n",
              "      <th>123499</th>\n",
              "      <td>dalla</td>\n",
              "      <td>O</td>\n",
              "    </tr>\n",
              "    <tr>\n",
              "      <th>123500</th>\n",
              "      <td>Direzione</td>\n",
              "      <td>O</td>\n",
              "    </tr>\n",
              "    <tr>\n",
              "      <th>123501</th>\n",
              "      <td>in</td>\n",
              "      <td>O</td>\n",
              "    </tr>\n",
              "    <tr>\n",
              "      <th>123502</th>\n",
              "      <td>materia</td>\n",
              "      <td>O</td>\n",
              "    </tr>\n",
              "    <tr>\n",
              "      <th>123503</th>\n",
              "      <td>.</td>\n",
              "      <td>O</td>\n",
              "    </tr>\n",
              "  </tbody>\n",
              "</table>\n",
              "<p>123504 rows × 2 columns</p>\n",
              "</div>"
            ],
            "text/plain": [
              "                0  1\n",
              "0              Il  O\n",
              "1        ministro  O\n",
              "2           degli  O\n",
              "3          Esteri  O\n",
              "4              al  O\n",
              "...           ... ..\n",
              "123499      dalla  O\n",
              "123500  Direzione  O\n",
              "123501         in  O\n",
              "123502    materia  O\n",
              "123503          .  O\n",
              "\n",
              "[123504 rows x 2 columns]"
            ]
          },
          "execution_count": 21,
          "metadata": {},
          "output_type": "execute_result"
        }
      ],
      "source": [
        "datasets_dict['degasperi_train.tsv']"
      ]
    },
    {
      "cell_type": "code",
      "execution_count": null,
      "metadata": {},
      "outputs": [],
      "source": [
        "print(len(sentences))\n",
        "length_list= []\n",
        "for i in sentences:\n",
        "    length_list.append(len(i))\n",
        "max(length_list)"
      ]
    },
    {
      "cell_type": "code",
      "execution_count": 27,
      "metadata": {},
      "outputs": [],
      "source": [
        "# Definition of the Word2Vec model\n",
        "embeddings_model = Word2Vec(sentences, vector_size=768, min_count=5, window=10)"
      ]
    },
    {
      "cell_type": "code",
      "execution_count": null,
      "metadata": {},
      "outputs": [],
      "source": [
        "# Printing the length of the vocabulary\n",
        "len(embeddings_model.wv)"
      ]
    },
    {
      "cell_type": "code",
      "execution_count": 32,
      "metadata": {},
      "outputs": [
        {
          "data": {
            "text/plain": [
              "[('turbano', 0.968519926071167),\n",
              " ('degni', 0.9651148319244385),\n",
              " ('restavano', 0.9643402695655823),\n",
              " ('vollero', 0.9635894298553467),\n",
              " ('farebbero', 0.959470272064209),\n",
              " ('facendo', 0.9585002064704895),\n",
              " ('ritengono', 0.9577850699424744),\n",
              " ('orfani', 0.9561125636100769),\n",
              " ('correggere', 0.9559285044670105),\n",
              " ('implica', 0.9551680684089661)]"
            ]
          },
          "execution_count": 32,
          "metadata": {},
          "output_type": "execute_result"
        }
      ],
      "source": [
        "term = 'danno'\n",
        "embeddings_model.wv.most_similar(term)\n",
        "\n",
        "# There is some problem maybe"
      ]
    },
    {
      "cell_type": "code",
      "execution_count": 35,
      "metadata": {},
      "outputs": [
        {
          "data": {
            "application/vnd.plotly.v1+json": {
              "config": {
                "plotlyServerURL": "https://plot.ly"
              },
              "data": [
                {
                  "hovertemplate": "x=%{x}<br>y=%{y}<br>z=%{z}<br>text=%{text}<extra></extra>",
                  "legendgroup": "",
                  "marker": {
                    "color": "#636efa",
                    "line": {
                      "width": 2
                    },
                    "size": 3,
                    "symbol": "circle"
                  },
                  "mode": "markers+text",
                  "name": "",
                  "scene": "scene",
                  "showlegend": false,
                  "text": [
                    "fanciulli",
                    "indispensabili",
                    "menomamente",
                    "pare",
                    "parlai",
                    "onta",
                    "base",
                    "filosofia",
                    "rigorosa",
                    "funebre",
                    "folle",
                    "correttamente",
                    "sapevano",
                    "uniche",
                    "armonizzare",
                    "rottura",
                    "slavi",
                    "mobile",
                    "amica",
                    "superamento",
                    "rafforzato",
                    "parità",
                    "confederazione",
                    "immaginava",
                    "fratelli",
                    "scarcerazione",
                    "teso",
                    "vuoti",
                    "ribadire",
                    "trovato",
                    "dispiaceva",
                    "passai",
                    "atteso",
                    "inaugurato",
                    "cospetto",
                    "imporsi",
                    "interpretato",
                    "ardore",
                    "sacerdoti",
                    "ostacoli",
                    "lunghe",
                    "ignorante",
                    "sponda",
                    "condotto",
                    "soliti",
                    "sportivo",
                    "solennità",
                    "vetrata",
                    "posso",
                    "forze",
                    "giulio",
                    "spiegò",
                    "determinata",
                    "accertamenti",
                    "mohamed",
                    "milizie",
                    "gelo",
                    "come",
                    "avvertita",
                    "nuovo",
                    "costo",
                    "bach",
                    "diminuito",
                    "soldati",
                    "opzione",
                    "righe",
                    "tours",
                    "pure",
                    "cortesemente",
                    "visitatori",
                    "dovrebbe",
                    "dall’",
                    "emersi",
                    "psi",
                    "elenco",
                    "medesimo",
                    "cori",
                    "differenti",
                    "ristabilimento",
                    "presunti",
                    "equilibri",
                    "federazioni",
                    "libico",
                    "invito",
                    "piccolo",
                    "300",
                    "balcone",
                    "andavano",
                    "clarino",
                    "52",
                    "trovai",
                    "lieve",
                    "lucifero",
                    "voler",
                    "dipendono",
                    "limitati",
                    "fondato",
                    "sapere",
                    "presenti",
                    "indagato",
                    "dissero",
                    "ix",
                    "eccesso",
                    "donato",
                    "ritardare",
                    "cielo",
                    "partner",
                    "europa",
                    "olimpico",
                    "polmoni",
                    "effettuare",
                    "pur",
                    "preparato",
                    "alleanza",
                    "ricovero",
                    "prevedibile",
                    "pesato",
                    "vani",
                    "brusco",
                    "muretto",
                    "guadagna",
                    "toccati",
                    "doverosamente",
                    "astronauti",
                    "confidiamo",
                    "bell'",
                    "barbara",
                    "buddhisti",
                    "arbitri",
                    "allievi",
                    "conca",
                    "operando",
                    "pronto",
                    "egoismo",
                    "cittadina",
                    "ombre",
                    "terribile",
                    "lungo",
                    "sviluppare",
                    "chiamate",
                    "portato",
                    "veri",
                    "wikimedia",
                    "intraprendere",
                    "sabotaggio",
                    "giuoco",
                    "moderato",
                    "confermata",
                    "starebbe",
                    "simpatica",
                    "ritirato",
                    "scioperi",
                    "portiere",
                    "pasticcino",
                    "scelta",
                    "modifiche",
                    "v",
                    "include",
                    "triestina",
                    "accinti",
                    "roosevelt",
                    "utilizzate",
                    "prova",
                    "povero",
                    "svolgevano",
                    "ritenute",
                    "villa",
                    "38",
                    "usare",
                    "arrivai",
                    "esaltante",
                    "giustiziato",
                    "hai",
                    "vene",
                    "chiarire",
                    "rilievo",
                    "malpensa",
                    "portavano",
                    "voto",
                    "bilanciata",
                    "rigoroso",
                    "motore",
                    "diagnosi",
                    "psdi",
                    "entusiasmo",
                    "soste",
                    "contento",
                    "concreto",
                    "oscar",
                    "elegante",
                    "chiedere",
                    "commesse",
                    "concorde",
                    "vicinanza",
                    "discute",
                    "varese",
                    "definite",
                    "vivamente",
                    "14enne",
                    "angela"
                  ],
                  "textfont": {
                    "size": 10
                  },
                  "type": "scatter3d",
                  "x": [
                    -3.641157388687134,
                    2.453845977783203,
                    -6.140308380126953,
                    9.024685859680176,
                    -10.518013000488281,
                    0.6943957209587097,
                    11.562312126159668,
                    -11.011641502380371,
                    0.9574880003929138,
                    -3.238558769226074,
                    1.5423898696899414,
                    -1.4800662994384766,
                    2.0581119060516357,
                    -11.404415130615234,
                    -4.904932022094727,
                    7.670523166656494,
                    0.49201348423957825,
                    7.08401346206665,
                    3.3172872066497803,
                    4.190595626831055,
                    -12.431049346923828,
                    -0.4537110924720764,
                    -0.43560439348220825,
                    -6.114531993865967,
                    8.680320739746094,
                    -8.373394966125488,
                    5.237723350524902,
                    0.39450395107269287,
                    -1.6010664701461792,
                    9.42473316192627,
                    -6.461094856262207,
                    -3.883967876434326,
                    2.349177122116089,
                    -4.841789245605469,
                    -12.194066047668457,
                    -3.508767604827881,
                    -7.664150714874268,
                    -2.9655983448028564,
                    2.678831100463867,
                    3.8056278228759766,
                    8.131109237670898,
                    0.5029051899909973,
                    0.06653429567813873,
                    9.817422866821289,
                    -3.3582940101623535,
                    5.980301380157471,
                    -3.5058162212371826,
                    -7.455895900726318,
                    9.38323974609375,
                    12.471908569335938,
                    7.403690338134766,
                    0.600753664970398,
                    0.33620738983154297,
                    2.3657209873199463,
                    -10.459360122680664,
                    -2.772027015686035,
                    -1.5410104990005493,
                    10.952737808227539,
                    0.0798722505569458,
                    11.927451133728027,
                    11.992788314819336,
                    1.503600001335144,
                    -4.232020378112793,
                    10.343367576599121,
                    -7.088678359985352,
                    -4.7471208572387695,
                    -10.618348121643066,
                    10.967019081115723,
                    -2.9042694568634033,
                    -5.25761604309082,
                    10.59005069732666,
                    12.722115516662598,
                    -9.296778678894043,
                    7.268600940704346,
                    0.2415994256734848,
                    -3.7987773418426514,
                    -7.420390605926514,
                    6.806799411773682,
                    -0.7635397911071777,
                    -3.768195390701294,
                    9.742897987365723,
                    -8.161847114562988,
                    -12.417698860168457,
                    8.970135688781738,
                    10.979657173156738,
                    4.009636878967285,
                    6.415134906768799,
                    3.327265501022339,
                    -4.925232410430908,
                    7.091289520263672,
                    1.758131742477417,
                    7.654967308044434,
                    -3.55625057220459,
                    9.678672790527344,
                    -8.172365188598633,
                    2.252235174179077,
                    5.335373401641846,
                    9.475273132324219,
                    10.742412567138672,
                    -1.779876947402954,
                    -7.687686443328857,
                    -8.63504695892334,
                    1.6561633348464966,
                    -11.097341537475586,
                    1.4547467231750488,
                    8.94886589050293,
                    -1.9087097644805908,
                    11.233970642089844,
                    -8.778505325317383,
                    -11.416460990905762,
                    1.6215254068374634,
                    11.046640396118164,
                    5.94170618057251,
                    10.986571311950684,
                    -8.81124210357666,
                    -5.007328510284424,
                    -10.967175483703613,
                    -8.398460388183594,
                    -2.9594357013702393,
                    -8.758914947509766,
                    -8.875335693359375,
                    -12.09428596496582,
                    -9.91746997833252,
                    -9.608636856079102,
                    -11.578493118286133,
                    -0.057584118098020554,
                    -9.763450622558594,
                    -3.490447759628296,
                    -7.4667768478393555,
                    3.3205666542053223,
                    -4.176591396331787,
                    -8.763978004455566,
                    8.74181079864502,
                    0.4915899634361267,
                    6.883054256439209,
                    1.2021870613098145,
                    5.401158332824707,
                    11.600987434387207,
                    9.293262481689453,
                    0.8471872210502625,
                    9.360459327697754,
                    3.9359869956970215,
                    6.16096305847168,
                    -2.908979892730713,
                    -7.574682235717773,
                    2.2452406883239746,
                    -11.382184028625488,
                    7.496580123901367,
                    -0.09522581100463867,
                    -7.598828315734863,
                    -10.774499893188477,
                    -11.19218921661377,
                    3.256873846054077,
                    -4.912598133087158,
                    10.94831657409668,
                    0.6748958826065063,
                    -8.611125946044922,
                    -6.405900478363037,
                    -11.476995468139648,
                    -9.423526763916016,
                    -3.2375240325927734,
                    -5.90966796875,
                    10.817005157470703,
                    6.959158420562744,
                    -11.188629150390625,
                    -8.215219497680664,
                    7.671281337738037,
                    5.865102767944336,
                    -3.1478793621063232,
                    -2.002119779586792,
                    -7.501408576965332,
                    -6.071650981903076,
                    9.2039213180542,
                    -6.199621200561523,
                    5.304122447967529,
                    10.299592971801758,
                    -4.786069869995117,
                    -0.6085271239280701,
                    11.611684799194336,
                    -2.8796706199645996,
                    6.732302188873291,
                    -2.7741570472717285,
                    -2.628788948059082,
                    -2.39365553855896,
                    8.428033828735352,
                    -8.14461898803711,
                    3.370870351791382,
                    5.680086612701416,
                    -2.639249086380005,
                    -0.8700615167617798,
                    9.766219139099121,
                    -2.5838708877563477,
                    1.155982494354248,
                    3.1511690616607666,
                    -1.8616293668746948,
                    -9.440390586853027,
                    -6.097302436828613,
                    5.106019020080566,
                    -5.077642917633057,
                    -10.730999946594238
                  ],
                  "y": [
                    2.329547643661499,
                    0.9563670754432678,
                    -0.10726247727870941,
                    -4.5789313316345215,
                    1.1813249588012695,
                    -0.1879129707813263,
                    0.16487564146518707,
                    -0.7468663454055786,
                    3.0536625385284424,
                    0.043124720454216,
                    -2.7272164821624756,
                    -2.0620405673980713,
                    -3.2252702713012695,
                    3.5724234580993652,
                    3.0052855014801025,
                    0.7087103724479675,
                    -0.3302765190601349,
                    1.051177740097046,
                    -1.8210245370864868,
                    2.807877540588379,
                    1.1740518808364868,
                    3.2204976081848145,
                    2.5551559925079346,
                    1.3548895120620728,
                    3.157740831375122,
                    2.9666073322296143,
                    -0.25768452882766724,
                    -0.4128517508506775,
                    -4.079180717468262,
                    -5.5368332862854,
                    1.6248974800109863,
                    -1.2189757823944092,
                    -3.117121458053589,
                    -1.9984148740768433,
                    0.06589240580797195,
                    0.19936558604240417,
                    -1.8463863134384155,
                    3.279510974884033,
                    -0.31876233220100403,
                    -2.3471202850341797,
                    1.7008994817733765,
                    -1.872180700302124,
                    -0.3054240345954895,
                    -3.3571856021881104,
                    2.2345387935638428,
                    1.1801813840866089,
                    0.888690173625946,
                    3.6704599857330322,
                    -4.219449996948242,
                    1.0089993476867676,
                    -2.5910370349884033,
                    -2.125170946121216,
                    1.2096469402313232,
                    -0.37020763754844666,
                    -1.101466178894043,
                    3.7073850631713867,
                    -1.9449554681777954,
                    -4.042012691497803,
                    0.5821717977523804,
                    -5.413693428039551,
                    -3.0512149333953857,
                    -1.1832081079483032,
                    -2.1568541526794434,
                    2.7187538146972656,
                    0.3018760681152344,
                    0.05717604607343674,
                    0.7429503202438354,
                    -1.7467159032821655,
                    -2.9461238384246826,
                    -0.03696577996015549,
                    -1.6013083457946777,
                    -0.6378501653671265,
                    4.087287902832031,
                    -4.681445121765137,
                    2.7878642082214355,
                    -2.3995769023895264,
                    3.9776482582092285,
                    1.8389291763305664,
                    2.134866952896118,
                    3.7769222259521484,
                    1.7567975521087646,
                    2.691493511199951,
                    -0.8726813793182373,
                    -3.5092437267303467,
                    -4.924744606018066,
                    0.5392860174179077,
                    -0.7299550175666809,
                    -0.4204257130622864,
                    -0.37700310349464417,
                    1.069206714630127,
                    -2.159255027770996,
                    -2.6009914875030518,
                    -3.8333561420440674,
                    -3.658799171447754,
                    5.056039810180664,
                    0.23188099265098572,
                    1.4100993871688843,
                    -4.087426662445068,
                    0.583073616027832,
                    -2.546921491622925,
                    2.233999252319336,
                    0.07752333581447601,
                    -1.7853467464447021,
                    1.9694263935089111,
                    0.9599791765213013,
                    -3.8883466720581055,
                    -1.856329083442688,
                    0.8417198657989502,
                    -1.180193543434143,
                    2.0178401470184326,
                    -1.0952107906341553,
                    -1.793348789215088,
                    -1.8192373514175415,
                    0.4408923387527466,
                    -1.9409250020980835,
                    -1.6044081449508667,
                    0.5401108264923096,
                    3.4525516033172607,
                    -1.008117914199829,
                    0.7974511384963989,
                    -0.5971166491508484,
                    3.2053890228271484,
                    1.417268991470337,
                    3.0787298679351807,
                    0.14725016057491302,
                    -0.4227692484855652,
                    0.17032572627067566,
                    2.3974111080169678,
                    2.969156503677368,
                    0.2448013424873352,
                    2.6666452884674072,
                    0.5956201553344727,
                    -5.036032199859619,
                    -0.10068636387586594,
                    0.8642250895500183,
                    2.1137707233428955,
                    0.18894608318805695,
                    -4.861471652984619,
                    1.892993688583374,
                    1.8809449672698975,
                    -5.8110833168029785,
                    -1.853299856185913,
                    0.5655077695846558,
                    1.6308064460754395,
                    1.5321924686431885,
                    -2.8046810626983643,
                    -0.6931126117706299,
                    -0.7687462568283081,
                    0.1413097232580185,
                    1.069158911705017,
                    2.102308511734009,
                    2.1165266036987305,
                    -0.1307220458984375,
                    0.8720875978469849,
                    -0.9590418934822083,
                    3.3523802757263184,
                    -0.680601179599762,
                    -0.026216058060526848,
                    1.147535800933838,
                    3.1795847415924072,
                    0.7330588698387146,
                    3.1702466011047363,
                    -1.5011789798736572,
                    -3.477735757827759,
                    0.08647678047418594,
                    5.26035737991333,
                    1.386484980583191,
                    0.7866657376289368,
                    0.6871477961540222,
                    -0.49932241439819336,
                    4.284139156341553,
                    -1.7234854698181152,
                    -4.324408054351807,
                    4.260984420776367,
                    -4.248168468475342,
                    -3.800093650817871,
                    -1.0349160432815552,
                    1.1528639793395996,
                    -4.738802433013916,
                    5.0232319831848145,
                    -2.392472743988037,
                    -2.784968376159668,
                    2.0344221591949463,
                    -4.021174907684326,
                    -1.9574171304702759,
                    4.795485496520996,
                    -3.7558109760284424,
                    -4.456110000610352,
                    -2.2271969318389893,
                    -3.172545909881592,
                    -3.5214059352874756,
                    3.8787193298339844,
                    3.56626558303833,
                    2.6693005561828613,
                    -0.9897974729537964,
                    -0.9955305457115173,
                    4.91347074508667,
                    -0.8710374236106873,
                    0.1266764998435974,
                    0.5054409503936768
                  ],
                  "z": [
                    -1.363842487335205,
                    -2.592850923538208,
                    0.8910278677940369,
                    4.383503437042236,
                    1.5251306295394897,
                    3.2309257984161377,
                    -3.2475268840789795,
                    1.4545083045959473,
                    1.8637112379074097,
                    1.709179401397705,
                    1.5361045598983765,
                    2.3476099967956543,
                    0.2382390946149826,
                    -2.5316624641418457,
                    -0.6691003441810608,
                    -1.6155604124069214,
                    -3.6617536544799805,
                    -0.8704909086227417,
                    3.146731376647949,
                    1.6723142862319946,
                    0.0487825907766819,
                    -0.0854378193616867,
                    0.5047361850738525,
                    -0.024214213714003563,
                    1.8394043445587158,
                    0.8372251987457275,
                    0.026435524225234985,
                    -3.5902326107025146,
                    0.8460870981216431,
                    0.07926800101995468,
                    0.2312936633825302,
                    -0.526802659034729,
                    2.144503593444824,
                    -0.9170730113983154,
                    -1.5625087022781372,
                    0.4676876366138458,
                    1.070754885673523,
                    2.1520042419433594,
                    -2.3879804611206055,
                    -2.1913135051727295,
                    2.4410407543182373,
                    2.453524589538574,
                    2.578373432159424,
                    -0.4931483566761017,
                    -3.4561073780059814,
                    -1.465759515762329,
                    0.521475076675415,
                    1.6536701917648315,
                    3.957003116607666,
                    3.254551649093628,
                    1.7215607166290283,
                    2.0063862800598145,
                    2.922851085662842,
                    -2.405031204223633,
                    -1.579492449760437,
                    -1.552678108215332,
                    1.6394983530044556,
                    4.121492385864258,
                    1.417317271232605,
                    -0.25011351704597473,
                    0.0052903154864907265,
                    0.8407171964645386,
                    0.9548658132553101,
                    2.722615957260132,
                    3.5976505279541016,
                    4.595697402954102,
                    -2.4895272254943848,
                    4.064984321594238,
                    3.0927929878234863,
                    -2.1781582832336426,
                    1.1714178323745728,
                    -0.6787031888961792,
                    -3.601444721221924,
                    -0.30555829405784607,
                    -2.5684525966644287,
                    3.868781089782715,
                    -3.5767083168029785,
                    1.969510793685913,
                    -1.5236018896102905,
                    -4.1797776222229,
                    2.2099924087524414,
                    -0.707211971282959,
                    -1.3824011087417603,
                    1.3737688064575195,
                    0.28414952754974365,
                    -0.5913639664649963,
                    0.5883370637893677,
                    -2.66652250289917,
                    -1.9757587909698486,
                    0.4388819634914398,
                    -0.06540323048830032,
                    0.5930595993995667,
                    2.002680778503418,
                    1.8749016523361206,
                    -1.8960187435150146,
                    -2.4590108394622803,
                    -1.3115296363830566,
                    3.802187204360962,
                    4.085665225982666,
                    -1.2610886096954346,
                    1.646125078201294,
                    2.133350372314453,
                    2.1676933765411377,
                    2.1246120929718018,
                    1.042493224143982,
                    0.2554135024547577,
                    -1.0237610340118408,
                    -1.7263606786727905,
                    -2.1700758934020996,
                    0.3311806917190552,
                    -0.8949794173240662,
                    4.04564094543457,
                    -0.04076152667403221,
                    -1.7627902030944824,
                    0.44281142950057983,
                    2.3726587295532227,
                    2.2927563190460205,
                    -3.270095109939575,
                    0.9608825445175171,
                    -0.3634151518344879,
                    1.585894227027893,
                    -1.6157509088516235,
                    -0.2633799612522125,
                    -2.4689526557922363,
                    -0.11169061064720154,
                    0.6615155935287476,
                    -1.9231879711151123,
                    -2.2635743618011475,
                    -2.6603665351867676,
                    -1.114997148513794,
                    3.817209482192993,
                    -3.4495785236358643,
                    0.9411125779151917,
                    2.848841905593872,
                    -1.491588830947876,
                    -3.1216673851013184,
                    -0.10950938612222672,
                    0.5116664171218872,
                    1.3468776941299438,
                    -2.712038278579712,
                    0.03802105039358139,
                    -3.0458860397338867,
                    0.5574775338172913,
                    1.7990026473999023,
                    -0.8272964358329773,
                    -0.18959467113018036,
                    1.735793113708496,
                    -0.5362749695777893,
                    0.625166654586792,
                    -1.5151724815368652,
                    2.7095375061035156,
                    -0.42305994033813477,
                    0.49162063002586365,
                    3.381089448928833,
                    -3.3476438522338867,
                    0.08801013231277466,
                    -2.4337804317474365,
                    0.9402322173118591,
                    -3.123500108718872,
                    -0.2921704053878784,
                    -0.1921580582857132,
                    -4.2770843505859375,
                    -3.0650975704193115,
                    0.8394047021865845,
                    -1.8640358448028564,
                    -2.6541213989257812,
                    -0.8791019320487976,
                    -0.13943223655223846,
                    4.317235946655273,
                    2.1640784740448,
                    0.8123729228973389,
                    2.4144606590270996,
                    3.845921277999878,
                    -0.06842997670173645,
                    1.08935546875,
                    -0.42885932326316833,
                    1.1086065769195557,
                    -3.735910415649414,
                    -0.619603157043457,
                    -2.3901679515838623,
                    -1.1797794103622437,
                    -0.44019678235054016,
                    2.760737419128418,
                    0.2583945393562317,
                    -0.9817409515380859,
                    -1.997276782989502,
                    0.7116951942443848,
                    0.6035714149475098,
                    -0.5340920686721802,
                    1.1517720222473145,
                    1.9762927293777466,
                    -1.6129323244094849,
                    1.2560712099075317,
                    -0.7517949342727661,
                    3.8572254180908203,
                    0.17226243019104004,
                    -3.1798043251037598,
                    0.35590338706970215,
                    -1.825900912284851,
                    -2.287686586380005
                  ]
                }
              ],
              "layout": {
                "legend": {
                  "tracegroupgap": 0
                },
                "margin": {
                  "t": 60
                },
                "scene": {
                  "domain": {
                    "x": [
                      0,
                      1
                    ],
                    "y": [
                      0,
                      1
                    ]
                  },
                  "xaxis": {
                    "title": {
                      "text": "x"
                    }
                  },
                  "yaxis": {
                    "title": {
                      "text": "y"
                    }
                  },
                  "zaxis": {
                    "title": {
                      "text": "z"
                    }
                  }
                },
                "template": {
                  "data": {
                    "bar": [
                      {
                        "error_x": {
                          "color": "#2a3f5f"
                        },
                        "error_y": {
                          "color": "#2a3f5f"
                        },
                        "marker": {
                          "line": {
                            "color": "#E5ECF6",
                            "width": 0.5
                          },
                          "pattern": {
                            "fillmode": "overlay",
                            "size": 10,
                            "solidity": 0.2
                          }
                        },
                        "type": "bar"
                      }
                    ],
                    "barpolar": [
                      {
                        "marker": {
                          "line": {
                            "color": "#E5ECF6",
                            "width": 0.5
                          },
                          "pattern": {
                            "fillmode": "overlay",
                            "size": 10,
                            "solidity": 0.2
                          }
                        },
                        "type": "barpolar"
                      }
                    ],
                    "carpet": [
                      {
                        "aaxis": {
                          "endlinecolor": "#2a3f5f",
                          "gridcolor": "white",
                          "linecolor": "white",
                          "minorgridcolor": "white",
                          "startlinecolor": "#2a3f5f"
                        },
                        "baxis": {
                          "endlinecolor": "#2a3f5f",
                          "gridcolor": "white",
                          "linecolor": "white",
                          "minorgridcolor": "white",
                          "startlinecolor": "#2a3f5f"
                        },
                        "type": "carpet"
                      }
                    ],
                    "choropleth": [
                      {
                        "colorbar": {
                          "outlinewidth": 0,
                          "ticks": ""
                        },
                        "type": "choropleth"
                      }
                    ],
                    "contour": [
                      {
                        "colorbar": {
                          "outlinewidth": 0,
                          "ticks": ""
                        },
                        "colorscale": [
                          [
                            0,
                            "#0d0887"
                          ],
                          [
                            0.1111111111111111,
                            "#46039f"
                          ],
                          [
                            0.2222222222222222,
                            "#7201a8"
                          ],
                          [
                            0.3333333333333333,
                            "#9c179e"
                          ],
                          [
                            0.4444444444444444,
                            "#bd3786"
                          ],
                          [
                            0.5555555555555556,
                            "#d8576b"
                          ],
                          [
                            0.6666666666666666,
                            "#ed7953"
                          ],
                          [
                            0.7777777777777778,
                            "#fb9f3a"
                          ],
                          [
                            0.8888888888888888,
                            "#fdca26"
                          ],
                          [
                            1,
                            "#f0f921"
                          ]
                        ],
                        "type": "contour"
                      }
                    ],
                    "contourcarpet": [
                      {
                        "colorbar": {
                          "outlinewidth": 0,
                          "ticks": ""
                        },
                        "type": "contourcarpet"
                      }
                    ],
                    "heatmap": [
                      {
                        "colorbar": {
                          "outlinewidth": 0,
                          "ticks": ""
                        },
                        "colorscale": [
                          [
                            0,
                            "#0d0887"
                          ],
                          [
                            0.1111111111111111,
                            "#46039f"
                          ],
                          [
                            0.2222222222222222,
                            "#7201a8"
                          ],
                          [
                            0.3333333333333333,
                            "#9c179e"
                          ],
                          [
                            0.4444444444444444,
                            "#bd3786"
                          ],
                          [
                            0.5555555555555556,
                            "#d8576b"
                          ],
                          [
                            0.6666666666666666,
                            "#ed7953"
                          ],
                          [
                            0.7777777777777778,
                            "#fb9f3a"
                          ],
                          [
                            0.8888888888888888,
                            "#fdca26"
                          ],
                          [
                            1,
                            "#f0f921"
                          ]
                        ],
                        "type": "heatmap"
                      }
                    ],
                    "heatmapgl": [
                      {
                        "colorbar": {
                          "outlinewidth": 0,
                          "ticks": ""
                        },
                        "colorscale": [
                          [
                            0,
                            "#0d0887"
                          ],
                          [
                            0.1111111111111111,
                            "#46039f"
                          ],
                          [
                            0.2222222222222222,
                            "#7201a8"
                          ],
                          [
                            0.3333333333333333,
                            "#9c179e"
                          ],
                          [
                            0.4444444444444444,
                            "#bd3786"
                          ],
                          [
                            0.5555555555555556,
                            "#d8576b"
                          ],
                          [
                            0.6666666666666666,
                            "#ed7953"
                          ],
                          [
                            0.7777777777777778,
                            "#fb9f3a"
                          ],
                          [
                            0.8888888888888888,
                            "#fdca26"
                          ],
                          [
                            1,
                            "#f0f921"
                          ]
                        ],
                        "type": "heatmapgl"
                      }
                    ],
                    "histogram": [
                      {
                        "marker": {
                          "pattern": {
                            "fillmode": "overlay",
                            "size": 10,
                            "solidity": 0.2
                          }
                        },
                        "type": "histogram"
                      }
                    ],
                    "histogram2d": [
                      {
                        "colorbar": {
                          "outlinewidth": 0,
                          "ticks": ""
                        },
                        "colorscale": [
                          [
                            0,
                            "#0d0887"
                          ],
                          [
                            0.1111111111111111,
                            "#46039f"
                          ],
                          [
                            0.2222222222222222,
                            "#7201a8"
                          ],
                          [
                            0.3333333333333333,
                            "#9c179e"
                          ],
                          [
                            0.4444444444444444,
                            "#bd3786"
                          ],
                          [
                            0.5555555555555556,
                            "#d8576b"
                          ],
                          [
                            0.6666666666666666,
                            "#ed7953"
                          ],
                          [
                            0.7777777777777778,
                            "#fb9f3a"
                          ],
                          [
                            0.8888888888888888,
                            "#fdca26"
                          ],
                          [
                            1,
                            "#f0f921"
                          ]
                        ],
                        "type": "histogram2d"
                      }
                    ],
                    "histogram2dcontour": [
                      {
                        "colorbar": {
                          "outlinewidth": 0,
                          "ticks": ""
                        },
                        "colorscale": [
                          [
                            0,
                            "#0d0887"
                          ],
                          [
                            0.1111111111111111,
                            "#46039f"
                          ],
                          [
                            0.2222222222222222,
                            "#7201a8"
                          ],
                          [
                            0.3333333333333333,
                            "#9c179e"
                          ],
                          [
                            0.4444444444444444,
                            "#bd3786"
                          ],
                          [
                            0.5555555555555556,
                            "#d8576b"
                          ],
                          [
                            0.6666666666666666,
                            "#ed7953"
                          ],
                          [
                            0.7777777777777778,
                            "#fb9f3a"
                          ],
                          [
                            0.8888888888888888,
                            "#fdca26"
                          ],
                          [
                            1,
                            "#f0f921"
                          ]
                        ],
                        "type": "histogram2dcontour"
                      }
                    ],
                    "mesh3d": [
                      {
                        "colorbar": {
                          "outlinewidth": 0,
                          "ticks": ""
                        },
                        "type": "mesh3d"
                      }
                    ],
                    "parcoords": [
                      {
                        "line": {
                          "colorbar": {
                            "outlinewidth": 0,
                            "ticks": ""
                          }
                        },
                        "type": "parcoords"
                      }
                    ],
                    "pie": [
                      {
                        "automargin": true,
                        "type": "pie"
                      }
                    ],
                    "scatter": [
                      {
                        "fillpattern": {
                          "fillmode": "overlay",
                          "size": 10,
                          "solidity": 0.2
                        },
                        "type": "scatter"
                      }
                    ],
                    "scatter3d": [
                      {
                        "line": {
                          "colorbar": {
                            "outlinewidth": 0,
                            "ticks": ""
                          }
                        },
                        "marker": {
                          "colorbar": {
                            "outlinewidth": 0,
                            "ticks": ""
                          }
                        },
                        "type": "scatter3d"
                      }
                    ],
                    "scattercarpet": [
                      {
                        "marker": {
                          "colorbar": {
                            "outlinewidth": 0,
                            "ticks": ""
                          }
                        },
                        "type": "scattercarpet"
                      }
                    ],
                    "scattergeo": [
                      {
                        "marker": {
                          "colorbar": {
                            "outlinewidth": 0,
                            "ticks": ""
                          }
                        },
                        "type": "scattergeo"
                      }
                    ],
                    "scattergl": [
                      {
                        "marker": {
                          "colorbar": {
                            "outlinewidth": 0,
                            "ticks": ""
                          }
                        },
                        "type": "scattergl"
                      }
                    ],
                    "scattermapbox": [
                      {
                        "marker": {
                          "colorbar": {
                            "outlinewidth": 0,
                            "ticks": ""
                          }
                        },
                        "type": "scattermapbox"
                      }
                    ],
                    "scatterpolar": [
                      {
                        "marker": {
                          "colorbar": {
                            "outlinewidth": 0,
                            "ticks": ""
                          }
                        },
                        "type": "scatterpolar"
                      }
                    ],
                    "scatterpolargl": [
                      {
                        "marker": {
                          "colorbar": {
                            "outlinewidth": 0,
                            "ticks": ""
                          }
                        },
                        "type": "scatterpolargl"
                      }
                    ],
                    "scatterternary": [
                      {
                        "marker": {
                          "colorbar": {
                            "outlinewidth": 0,
                            "ticks": ""
                          }
                        },
                        "type": "scatterternary"
                      }
                    ],
                    "surface": [
                      {
                        "colorbar": {
                          "outlinewidth": 0,
                          "ticks": ""
                        },
                        "colorscale": [
                          [
                            0,
                            "#0d0887"
                          ],
                          [
                            0.1111111111111111,
                            "#46039f"
                          ],
                          [
                            0.2222222222222222,
                            "#7201a8"
                          ],
                          [
                            0.3333333333333333,
                            "#9c179e"
                          ],
                          [
                            0.4444444444444444,
                            "#bd3786"
                          ],
                          [
                            0.5555555555555556,
                            "#d8576b"
                          ],
                          [
                            0.6666666666666666,
                            "#ed7953"
                          ],
                          [
                            0.7777777777777778,
                            "#fb9f3a"
                          ],
                          [
                            0.8888888888888888,
                            "#fdca26"
                          ],
                          [
                            1,
                            "#f0f921"
                          ]
                        ],
                        "type": "surface"
                      }
                    ],
                    "table": [
                      {
                        "cells": {
                          "fill": {
                            "color": "#EBF0F8"
                          },
                          "line": {
                            "color": "white"
                          }
                        },
                        "header": {
                          "fill": {
                            "color": "#C8D4E3"
                          },
                          "line": {
                            "color": "white"
                          }
                        },
                        "type": "table"
                      }
                    ]
                  },
                  "layout": {
                    "annotationdefaults": {
                      "arrowcolor": "#2a3f5f",
                      "arrowhead": 0,
                      "arrowwidth": 1
                    },
                    "autotypenumbers": "strict",
                    "coloraxis": {
                      "colorbar": {
                        "outlinewidth": 0,
                        "ticks": ""
                      }
                    },
                    "colorscale": {
                      "diverging": [
                        [
                          0,
                          "#8e0152"
                        ],
                        [
                          0.1,
                          "#c51b7d"
                        ],
                        [
                          0.2,
                          "#de77ae"
                        ],
                        [
                          0.3,
                          "#f1b6da"
                        ],
                        [
                          0.4,
                          "#fde0ef"
                        ],
                        [
                          0.5,
                          "#f7f7f7"
                        ],
                        [
                          0.6,
                          "#e6f5d0"
                        ],
                        [
                          0.7,
                          "#b8e186"
                        ],
                        [
                          0.8,
                          "#7fbc41"
                        ],
                        [
                          0.9,
                          "#4d9221"
                        ],
                        [
                          1,
                          "#276419"
                        ]
                      ],
                      "sequential": [
                        [
                          0,
                          "#0d0887"
                        ],
                        [
                          0.1111111111111111,
                          "#46039f"
                        ],
                        [
                          0.2222222222222222,
                          "#7201a8"
                        ],
                        [
                          0.3333333333333333,
                          "#9c179e"
                        ],
                        [
                          0.4444444444444444,
                          "#bd3786"
                        ],
                        [
                          0.5555555555555556,
                          "#d8576b"
                        ],
                        [
                          0.6666666666666666,
                          "#ed7953"
                        ],
                        [
                          0.7777777777777778,
                          "#fb9f3a"
                        ],
                        [
                          0.8888888888888888,
                          "#fdca26"
                        ],
                        [
                          1,
                          "#f0f921"
                        ]
                      ],
                      "sequentialminus": [
                        [
                          0,
                          "#0d0887"
                        ],
                        [
                          0.1111111111111111,
                          "#46039f"
                        ],
                        [
                          0.2222222222222222,
                          "#7201a8"
                        ],
                        [
                          0.3333333333333333,
                          "#9c179e"
                        ],
                        [
                          0.4444444444444444,
                          "#bd3786"
                        ],
                        [
                          0.5555555555555556,
                          "#d8576b"
                        ],
                        [
                          0.6666666666666666,
                          "#ed7953"
                        ],
                        [
                          0.7777777777777778,
                          "#fb9f3a"
                        ],
                        [
                          0.8888888888888888,
                          "#fdca26"
                        ],
                        [
                          1,
                          "#f0f921"
                        ]
                      ]
                    },
                    "colorway": [
                      "#636efa",
                      "#EF553B",
                      "#00cc96",
                      "#ab63fa",
                      "#FFA15A",
                      "#19d3f3",
                      "#FF6692",
                      "#B6E880",
                      "#FF97FF",
                      "#FECB52"
                    ],
                    "font": {
                      "color": "#2a3f5f"
                    },
                    "geo": {
                      "bgcolor": "white",
                      "lakecolor": "white",
                      "landcolor": "#E5ECF6",
                      "showlakes": true,
                      "showland": true,
                      "subunitcolor": "white"
                    },
                    "hoverlabel": {
                      "align": "left"
                    },
                    "hovermode": "closest",
                    "mapbox": {
                      "style": "light"
                    },
                    "paper_bgcolor": "white",
                    "plot_bgcolor": "#E5ECF6",
                    "polar": {
                      "angularaxis": {
                        "gridcolor": "white",
                        "linecolor": "white",
                        "ticks": ""
                      },
                      "bgcolor": "#E5ECF6",
                      "radialaxis": {
                        "gridcolor": "white",
                        "linecolor": "white",
                        "ticks": ""
                      }
                    },
                    "scene": {
                      "xaxis": {
                        "backgroundcolor": "#E5ECF6",
                        "gridcolor": "white",
                        "gridwidth": 2,
                        "linecolor": "white",
                        "showbackground": true,
                        "ticks": "",
                        "zerolinecolor": "white"
                      },
                      "yaxis": {
                        "backgroundcolor": "#E5ECF6",
                        "gridcolor": "white",
                        "gridwidth": 2,
                        "linecolor": "white",
                        "showbackground": true,
                        "ticks": "",
                        "zerolinecolor": "white"
                      },
                      "zaxis": {
                        "backgroundcolor": "#E5ECF6",
                        "gridcolor": "white",
                        "gridwidth": 2,
                        "linecolor": "white",
                        "showbackground": true,
                        "ticks": "",
                        "zerolinecolor": "white"
                      }
                    },
                    "shapedefaults": {
                      "line": {
                        "color": "#2a3f5f"
                      }
                    },
                    "ternary": {
                      "aaxis": {
                        "gridcolor": "white",
                        "linecolor": "white",
                        "ticks": ""
                      },
                      "baxis": {
                        "gridcolor": "white",
                        "linecolor": "white",
                        "ticks": ""
                      },
                      "bgcolor": "#E5ECF6",
                      "caxis": {
                        "gridcolor": "white",
                        "linecolor": "white",
                        "ticks": ""
                      }
                    },
                    "title": {
                      "x": 0.05
                    },
                    "xaxis": {
                      "automargin": true,
                      "gridcolor": "white",
                      "linecolor": "white",
                      "ticks": "",
                      "title": {
                        "standoff": 15
                      },
                      "zerolinecolor": "white",
                      "zerolinewidth": 2
                    },
                    "yaxis": {
                      "automargin": true,
                      "gridcolor": "white",
                      "linecolor": "white",
                      "ticks": "",
                      "title": {
                        "standoff": 15
                      },
                      "zerolinecolor": "white",
                      "zerolinewidth": 2
                    }
                  }
                }
              }
            }
          },
          "metadata": {},
          "output_type": "display_data"
        }
      ],
      "source": [
        "sample = random.sample(list(embeddings_model.wv.key_to_index), 500)\n",
        "word_vectors = embeddings_model.wv[sample]\n",
        "\n",
        "tsne = TSNE(n_components=3, n_iter=2000)\n",
        "tsne_embedding = tsne.fit_transform(word_vectors)\n",
        "x, y, z = np.transpose(tsne_embedding)\n",
        "\n",
        "fig = px.scatter_3d(x=x[:200],y=y[:200],z=z[:200],text=sample[:200])\n",
        "fig.update_traces(marker=dict(size=3,line=dict(width=2)),textfont_size=10)\n",
        "fig.show()"
      ]
    },
    {
      "attachments": {},
      "cell_type": "markdown",
      "metadata": {},
      "source": [
        "## Computing the embeddings using a pretrained model"
      ]
    },
    {
      "cell_type": "code",
      "execution_count": null,
      "metadata": {},
      "outputs": [],
      "source": []
    },
    {
      "attachments": {},
      "cell_type": "markdown",
      "metadata": {},
      "source": [
        "##DA VALUTARE"
      ]
    },
    {
      "cell_type": "code",
      "execution_count": null,
      "metadata": {
        "id": "Fl5msGpYtt5K"
      },
      "outputs": [],
      "source": [
        "# Elia valuta se può essere utile, altrimenti eliminiamo\n",
        "def compute_statistics(dataset_name, dataset, statistics_df):\n",
        "  '''\n",
        "  Computes the statistics of the dataset and adds it into an aggregated structure\n",
        "\n",
        "  Parameters\n",
        "  ----------\n",
        "  dataset_name: str\n",
        "  dataset: DataFrame\n",
        "  statistics_df: DataFrame\n",
        "\n",
        "  Returns\n",
        "  -------\n",
        "  statistics_df: DataFrame\n",
        "  '''\n",
        "  if statistics_df is None:\n",
        "    columns = ['Dataset', 'Number of tokens', 'Number of unique tokens', 'Entity tag types']\n",
        "    statistics_df = pd.DataFrame([[dataset_name, len(dataset), len(dataset['Token'].unique()), sorted(dataset['Tag'].unique())]], columns=columns)\n",
        "  else:\n",
        "    columns = ['Dataset', 'Number of tokens', 'Number of unique tokens', 'Entity tag types']\n",
        "    statistics_df = pd.concat([statistics_df, pd.DataFrame([[dataset_name, len(dataset), len(dataset['Token'].unique()), sorted(dataset['Tag'].unique())]], columns=columns)])\n",
        "  return statistics_df\n",
        "\n",
        "\n",
        "\n",
        "  # Rimuovi l'hardcoding dei nomi delle colonne"
      ]
    },
    {
      "cell_type": "code",
      "execution_count": null,
      "metadata": {
        "id": "Yo7B5swCz1V2"
      },
      "outputs": [],
      "source": [
        "# Elia valuta se può essere utile, altrimenti eliminiamo\n",
        "datasets_df = []\n",
        "dataset_stats_df = None\n",
        "\n",
        "for dataset_name in dataset_names:\n",
        "  dataset_df = pd.read_csv(dataset_name, sep='\\t', names=['Token', 'Tag'])\n",
        "  datasets_df.append(dataset_df)\n",
        "  dataset_stats_df = compute_statistics(dataset_name, dataset_df, dataset_stats_df)\n",
        "\n",
        "dataset_stats_df.style.hide(axis='index')"
      ]
    },
    {
      "attachments": {},
      "cell_type": "markdown",
      "metadata": {
        "id": "PfbNEkJZgDJe"
      },
      "source": [
        "## POS tagging"
      ]
    },
    {
      "cell_type": "code",
      "execution_count": null,
      "metadata": {
        "id": "NL0AA1eVdT3o"
      },
      "outputs": [],
      "source": [
        "# Loading the italian model\n",
        "nlp_model = it_core_news_sm.load()\n",
        "\n",
        "text_degasperi = ' '.join(dataset_degasperi.iloc[:, 0].tolist())\n",
        "parsed_text_degasperi = nlp_model(text_degasperi)\n",
        "\n",
        "text_fiction = ' '.join(dataset_fiction.iloc[:, 0].tolist())\n",
        "parsed_text_fiction = nlp_model(text_fiction)\n",
        "\n",
        "text_wikinews = ' '.join(dataset_wikinews.iloc[:, 0].tolist())\n",
        "parsed_text_wiki = nlp_model(text_wikinews[:1000000])\n",
        "\n",
        "text_moro = ' '.join(dataset_moro.iloc[:, 0].tolist())\n",
        "parsed_text_moro = nlp_model(text_moro[:1000000])"
      ]
    },
    {
      "cell_type": "code",
      "execution_count": null,
      "metadata": {
        "id": "DPRbor2ATNqR"
      },
      "outputs": [],
      "source": [
        "def merge_counters(counter1, counter2):\n",
        "\n",
        "  '''\n",
        "  Takes 2 counters with different shapes and in the smallest one ad also the key that are currently inside with a value of 0\n",
        "\n",
        "  Parameters\n",
        "  ----------\n",
        "  counter1: Counter\n",
        "    Counter with smallest shape that has to be incremented\n",
        "  counter2: Counter\n",
        "    Counter with the larger shape\n",
        "\n",
        "  Returns\n",
        "  -------\n",
        "  new_counter: Counter\n",
        "    Counter containing all the tuple of the smallest one and the tuples (key, 0) of the larger one that were no present in the small one\n",
        "  '''\n",
        "  new_counter = counter1    \n",
        "\n",
        "  for key, value in counter2.items():\n",
        "    if key not in new_counter.keys():\n",
        "      new_counter[key] = 0 \n",
        "\n",
        "  return new_counter"
      ]
    },
    {
      "cell_type": "code",
      "execution_count": null,
      "metadata": {
        "id": "tzmUyHYDw-eR"
      },
      "outputs": [],
      "source": [
        "def plot_wordCloud_counters(counters):\n",
        "\n",
        "  '''\n",
        "  Takes as input a list of counters and it plots the wordCloud\n",
        "\n",
        "  Parameters\n",
        "  ----------\n",
        "  cunters: list(Counter)\n",
        "    List of counters that has to be plotted. It does not require that all the counters has the same shape\n",
        "\n",
        "  '''\n",
        "\n",
        "  word_cloud_counter = Counter()\n",
        "  for counter in list_counters:\n",
        "    word_cloud_counter.update(counter)\n",
        "  # Generate a word cloud from the POS counts\n",
        "  wordcloud = WordCloud(background_color='white').generate_from_frequencies(word_cloud_counter)\n",
        "\n",
        "  # Plot the word cloud\n",
        "  plt.imshow(wordcloud, interpolation='bilinear')\n",
        "  plt.axis(\"off\")\n",
        "  plt.show()"
      ]
    },
    {
      "cell_type": "code",
      "execution_count": null,
      "metadata": {
        "id": "1oFiL_p2unFX"
      },
      "outputs": [],
      "source": [
        "def plot_groupedBar_counters(counters):\n",
        "\n",
        "  '''\n",
        "  Takes as input a list of counters and it plots in the same bar chart the counts\n",
        "\n",
        "  Parameters\n",
        "  ----------\n",
        "  cunters: list(Counter)\n",
        "    List of counters that has to be plotted. It does not require that all the counters has the same shape\n",
        "\n",
        "  '''\n",
        "  \n",
        "  max_length = max(map(len, list_counters))                         # max length of the counters\n",
        "  max_position = list(map(len, list_counters)).index(max_length)    # position in the list of the counter with max length\n",
        "\n",
        "  # For each counter that is not the one of maximum dimension I merge it with all the other ones. The result is a list with counters having all the same keys\n",
        "  for i in range(len(list_counters)):\n",
        "    if i != max_position:\n",
        "      list_counters[i] = merge_counters(list_counters[i], list_counters[max_position])\n",
        "\n",
        "  # We plot each counter inside the bar chart\n",
        "  x = np.arange(max_length)\n",
        "  width=0.2\n",
        "  multiplier = 0\n",
        "  for counter in list_counters:\n",
        "    offset = width * multiplier\n",
        "    labels, values = zip(*sorted(counter.items()))\n",
        "    plt.bar(x + offset, values, width=width)\n",
        "    multiplier += 1\n",
        "\n",
        "  plt.title(\"POS Tag Frequency Distribution Degasperi\")\n",
        "  plt.xlabel(\"POS Tag\")\n",
        "  plt.ylabel(\"Frequency\")\n",
        "  plt.xticks(x + width, sorted(list_counters[max_position]), rotation='vertical')\n",
        "  plt.show()"
      ]
    },
    {
      "cell_type": "code",
      "execution_count": null,
      "metadata": {
        "colab": {
          "base_uri": "https://localhost:8080/",
          "height": 773
        },
        "id": "6lIMU-RRiMsf",
        "outputId": "27b47598-98ff-4784-fbd2-e6c9cd5e889f"
      },
      "outputs": [],
      "source": [
        "# Get the frequency distribution of POS tags\n",
        "pos_freq_degasperi = Counter([token.pos_ for token in parsed_text_degasperi])\n",
        "pos_freq_fiction = Counter([token.pos_ for token in parsed_text_fiction])\n",
        "pos_freq_wiki = Counter([token.pos_ for token in parsed_text_wiki])\n",
        "pos_freq_moro = Counter([token.pos_ for token in parsed_text_moro])\n",
        "\n",
        "list_counters = [pos_freq_degasperi, pos_freq_fiction, pos_freq_wiki, pos_freq_moro]\n",
        "plot_groupedBar_counters(list_counters)\n",
        "plot_wordCloud_counters(list_counters)"
      ]
    },
    {
      "attachments": {},
      "cell_type": "markdown",
      "metadata": {
        "id": "SoDrRGFIgFpZ"
      },
      "source": [
        "# CODICE ELIA"
      ]
    },
    {
      "attachments": {},
      "cell_type": "markdown",
      "metadata": {
        "id": "gUVSRpgmEVNV"
      },
      "source": [
        "# KIND DATASET\n",
        "\n",
        "## Brief Description\n",
        "KIND (Kessler Italian Named-entities Dataset) is a dataset released in 2022 by researchers from Fondazione Bruno Kessler and the University of Trento. It contains 1 million tokens, of which 600K name-entities are manually annotated. The entities belong to 3 classes (people, location, organization). The texts come from various sources of the Italian language, such as news articles, literature, and political speeches, making it a multi-domain dataset. \n",
        "The following table shows the dataset composition:\n",
        "\n",
        "<table>\n",
        "  <thead>\n",
        "    <tr>\n",
        "      <th rowspan=\"2\">Dataset</th>\n",
        "      <th rowspan=\"2\">Documents</th>\n",
        "      <th rowspan=\"2\">Tokens</th>\n",
        "      <th colspan=\"4\">Train</th>\n",
        "      <th colspan=\"4\">Test</th>\n",
        "    </tr>\n",
        "    <tr>\n",
        "      <th>Total</th>\n",
        "      <th>PER</th>\n",
        "      <th>ORG</th>\n",
        "      <th>LOC</th>\n",
        "      <th>Total</th>\n",
        "      <th>PER</th>\n",
        "      <th>ORG</th>\n",
        "      <th>LOC</th>\n",
        "    </tr>\n",
        "  </thead>\n",
        "  <tbody>\n",
        "    <tr>\n",
        "      <td>Wikinews</td>\n",
        "      <td>1,000</td>\n",
        "      <td>308,622</td>\n",
        "      <td>247,528</td>\n",
        "      <td>8,928</td>\n",
        "      <td>7,593</td>\n",
        "      <td>6,862</td>\n",
        "      <td>61,094</td>\n",
        "      <td>1,802</td>\n",
        "      <td>1,823</td>\n",
        "      <td>1,711</td>\n",
        "    </tr>\n",
        "    <tr>\n",
        "      <td>Fiction</td>\n",
        "      <td>86</td>\n",
        "      <td>192,448</td>\n",
        "      <td>170,942</td>\n",
        "      <td>3,439</td>\n",
        "      <td>182</td>\n",
        "      <td>733</td>\n",
        "      <td>21,506</td>\n",
        "      <td>636</td>\n",
        "      <td>284</td>\n",
        "      <td>463</td>\n",
        "    </tr>\n",
        "    <tr>\n",
        "      <td>Aldo Moro</td>\n",
        "      <td>250</td>\n",
        "      <td>392,604</td>\n",
        "      <td>309,798</td>\n",
        "      <td>1,459</td>\n",
        "      <td>4,842</td>\n",
        "      <td>2,024</td>\n",
        "      <td>82,806</td>\n",
        "      <td>282</td>\n",
        "      <td>934</td>\n",
        "      <td>807</td>\n",
        "    </tr>\n",
        "    <tr>\n",
        "      <td>Alcide De Gasperi</td>\n",
        "      <td>158</td>\n",
        "      <td>150,632</td>\n",
        "      <td>117,997</td>\n",
        "      <td>1,129</td>\n",
        "      <td>2,396</td>\n",
        "      <td>1,046</td>\n",
        "      <td>32,635</td>\n",
        "      <td>253</td>\n",
        "      <td>533</td>\n",
        "      <td>274</td>\n",
        "    </tr>\n",
        "    <tr>\n",
        "      <td><strong>Total</strong></td>\n",
        "      <td><strong>1494</strong></td>\n",
        "      <td><strong>1,044,306</strong></td>\n",
        "      <td><strong>846,265</strong></td>\n",
        "      <td><strong>14,955</strong></td>\n",
        "      <td><strong>15,013</strong></td>\n",
        "      <td><strong>10,665</strong></td>\n",
        "      <td><strong>198,041</strong></td>\n",
        "      <td><strong>2,973</strong></td>\n",
        "      <td><strong>3,574</strong></td>\n",
        "      <td><strong>3,255</strong></td>\n",
        "    </tr>\n",
        "  </tbody>\n",
        "</table>\n",
        "\n",
        "\n",
        "##Annotation Tagging scheme\n",
        "The tokens of all datasets, except for Aldo Moro, have been manually labeled using the IOB (Inside-Outside-Beginning) convention: each entity is labeled as begin-of-entity (B-[ent]) or continuation-of-entity (I-[ent]). The annotations of the Aldo Moro dataset, instead, were carried out with a mixed process that used both manual and automatic annotations (subsequently checked by hand); due to some differences in the convention for annotation, this dataset does not contain information for composite entities (beginning, continuation). For more details, please refer to the paper related with the dataset release: https://arxiv.org/abs/2112.15099\n",
        "\n",
        "An example of the annotations is reported here: \n"
      ]
    },
    {
      "cell_type": "code",
      "execution_count": null,
      "metadata": {
        "id": "durfizxkrnhW"
      },
      "outputs": [],
      "source": [
        "# IOB annotation (from ADG_dev.tsv)\n",
        "Nel\tO\n",
        "nostro\tO\n",
        "Trentino\tB-LOC\n",
        "attraversiamo\tO\n",
        "un\tO\n",
        "momento\tO\n",
        "storico\tO\n",
        "importante\tO\n",
        ".\tO\n",
        "\n",
        "# non-IOB annotation (from moro_test.tsv)\n",
        "Dal\tO\n",
        "Consiglio\tORG\n",
        "nazionale\tORG\n",
        "del\tO\n",
        "‘\tO\n",
        "75\tO\n",
        "la\tO\n",
        "grande\tO\n",
        "stampa\tO\n",
        "parla\tO\n",
        "di\tO\n",
        "due\tO\n",
        "anime\tO\n",
        "contrapposte\tO\n",
        "del\tO\n",
        "partito\tO\n",
        ".\tO"
      ]
    },
    {
      "attachments": {},
      "cell_type": "markdown",
      "metadata": {
        "id": "i9ejTFLxdf_z"
      },
      "source": []
    },
    {
      "cell_type": "code",
      "execution_count": null,
      "metadata": {
        "id": "UUxTIXvXdgoV"
      },
      "outputs": [],
      "source": [
        "def to_lowerCase(df):\n",
        "    return pd.DataFrame({'Token': df['Token'].str.lower(), 'Entity': df['Entity']})\n",
        "\n",
        "def add_column_names(df):\n",
        "    return  df.rename(columns={0: 'Token', 1: 'Entity'})\n",
        "\n",
        "\n",
        "ds = {'ds_dg' : pd.read_csv('./KIND_project/dataset/KIND-main/dataset/degasperi_train.tsv', sep='\\t', header=None),\n",
        "      'ds_mr' : pd.read_csv('./KIND_project/dataset/KIND-main/dataset/moro_train.tsv', sep='\\t', header=None),\n",
        "      'ds_fc' : pd.read_csv('./KIND_project/dataset/KIND-main/dataset/fiction_train.tsv', sep='\\t', header=None),\n",
        "      'ds_wn' : pd.read_csv('./KIND_project/dataset/KIND-main/dataset/wikinews_train.tsv', sep='\\t', header=None),\n",
        "      \n",
        "      'ds_dg_test' : pd.read_csv('./KIND_project/dataset/KIND-main/dataset/degasperi_test.tsv', sep='\\t', header=None),\n",
        "      'ds_mr_test' : pd.read_csv('./KIND_project/dataset/KIND-main/dataset/moro_test.tsv', sep='\\t', header=None),\n",
        "      'ds_fc_test' : pd.read_csv('./KIND_project/dataset/KIND-main/dataset/fiction_test.tsv', sep='\\t', header=None),\n",
        "      'ds_wn_test' : pd.read_csv('./KIND_project/dataset/KIND-main/dataset/wikinews_test.tsv', sep='\\t', header=None),\n",
        "      \n",
        "      'ds_dg_IOB' : pd.read_csv('./KIND_project/dataset/KIND-main/evalita-2023/ADG_train.tsv', sep='\\t', header=None),\n",
        "      'ds_fc_IOB' : pd.read_csv('./KIND_project/dataset/KIND-main/evalita-2023/FIC_train.tsv', sep='\\t', header=None),\n",
        "      'ds_wn_IOB' : pd.read_csv('./KIND_project/dataset/KIND-main/evalita-2023/WN_train.tsv', sep='\\t', header=None),\n",
        "      \n",
        "      'ds_dg_IOB_test' : pd.read_csv('./KIND_project/dataset/KIND-main/evalita-2023/ADG_dev.tsv', sep='\\t', header=None),\n",
        "      'ds_fc_IOB_test' : pd.read_csv('./KIND_project/dataset/KIND-main/evalita-2023/FIC_dev.tsv', sep='\\t', header=None),\n",
        "      'ds_wn_IOB_test' : pd.read_csv('./KIND_project/dataset/KIND-main/evalita-2023/WN_dev.tsv', sep='\\t', header=None),\n",
        "}\n",
        "\n",
        "# lowercasing tokens, adding column names, compute some stats\n",
        "avg_doc_len = 0\n",
        "avg_voc_size = 0\n",
        "\n",
        "stats = {}\n",
        "\n",
        "for i in ds.keys():     \n",
        "\n",
        "    stats[i] = {\n",
        "        'doc_len' : ds[i]['Token'].count(),\n",
        "        'voc_size' : ds[i]['Token'].nunique(),\n",
        "\n",
        "        'n_O' : sum(1 for k in ds[i]['Entity'] if k == 'O'),\n",
        "        'n_PER' : sum(1 for k in ds[i]['Entity'] if k == 'PER'), \n",
        "        'n_ORG' : sum(1 for k in ds[i]['Entity'] if k == 'ORG'),\n",
        "        'n_LOC' : sum(1 for k in ds[i]['Entity'] if k == 'LOC'),\n",
        "\n",
        "        'n_I-PER' : sum(1 for k in ds[i]['Entity'] if k == 'I-PER'), \n",
        "        'n_I-ORG' : sum(1 for k in ds[i]['Entity'] if k == 'I-ORG'),\n",
        "        'n_I-LOC' : sum(1 for k in ds[i]['Entity'] if k == 'I-LOC'),\n",
        "\n",
        "        'n_B-PER' : sum(1 for k in ds[i]['Entity'] if k == 'B-PER'), \n",
        "        'n_B-ORG' : sum(1 for k in ds[i]['Entity'] if k == 'B-ORG'),\n",
        "        'n_B-LOC' : sum(1 for k in ds[i]['Entity'] if k == 'B-LOC'),\n",
        "\n",
        "        'n_punct': sum(1 for k in ds[i]['Token'] if all(char in string.punctuation for char in k)),\n",
        "    }\n",
        "  \n",
        "avg_doc_len = sum(stats[i]['doc_len'] for i in stats.keys()) / len(stats.keys())\n",
        "avg_voc_size = sum(stats[i]['voc_size'] for i in stats.keys()) / len(stats.keys())"
      ]
    }
  ],
  "metadata": {
    "colab": {
      "include_colab_link": true,
      "provenance": []
    },
    "kernelspec": {
      "display_name": "Python 3",
      "name": "python3"
    },
    "language_info": {
      "codemirror_mode": {
        "name": "ipython",
        "version": 3
      },
      "file_extension": ".py",
      "mimetype": "text/x-python",
      "name": "python",
      "nbconvert_exporter": "python",
      "pygments_lexer": "ipython3",
      "version": "3.10.11"
    }
  },
  "nbformat": 4,
  "nbformat_minor": 0
}
